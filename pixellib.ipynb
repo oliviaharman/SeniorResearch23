{
 "cells": [
  {
   "cell_type": "markdown",
   "id": "a5401206",
   "metadata": {},
   "source": [
    "## Extraction of Objects In Images with pixellib\n",
    "#### Requires the Mask R CNN COCO Model"
   ]
  },
  {
   "cell_type": "code",
   "execution_count": 5,
   "id": "52269734",
   "metadata": {
    "collapsed": true
   },
   "outputs": [
    {
     "name": "stdout",
     "output_type": "stream",
     "text": [
      "Requirement already satisfied: tensorflow in c:\\users\\olivi\\anaconda3\\python\\lib\\site-packages (2.12.0)\n",
      "Requirement already satisfied: tensorflow-intel==2.12.0 in c:\\users\\olivi\\anaconda3\\python\\lib\\site-packages (from tensorflow) (2.12.0)\n",
      "Requirement already satisfied: tensorflow-io-gcs-filesystem>=0.23.1 in c:\\users\\olivi\\anaconda3\\python\\lib\\site-packages (from tensorflow-intel==2.12.0->tensorflow) (0.31.0)\n",
      "Requirement already satisfied: six>=1.12.0 in c:\\users\\olivi\\anaconda3\\python\\lib\\site-packages (from tensorflow-intel==2.12.0->tensorflow) (1.16.0)\n",
      "Requirement already satisfied: astunparse>=1.6.0 in c:\\users\\olivi\\anaconda3\\python\\lib\\site-packages (from tensorflow-intel==2.12.0->tensorflow) (1.6.3)\n",
      "Requirement already satisfied: wrapt<1.15,>=1.11.0 in c:\\users\\olivi\\anaconda3\\python\\lib\\site-packages (from tensorflow-intel==2.12.0->tensorflow) (1.12.1)\n",
      "Requirement already satisfied: google-pasta>=0.1.1 in c:\\users\\olivi\\anaconda3\\python\\lib\\site-packages (from tensorflow-intel==2.12.0->tensorflow) (0.2.0)\n",
      "Requirement already satisfied: tensorboard<2.13,>=2.12 in c:\\users\\olivi\\anaconda3\\python\\lib\\site-packages (from tensorflow-intel==2.12.0->tensorflow) (2.12.2)\n",
      "Requirement already satisfied: opt-einsum>=2.3.2 in c:\\users\\olivi\\anaconda3\\python\\lib\\site-packages (from tensorflow-intel==2.12.0->tensorflow) (3.3.0)\n",
      "Requirement already satisfied: h5py>=2.9.0 in c:\\users\\olivi\\anaconda3\\python\\lib\\site-packages (from tensorflow-intel==2.12.0->tensorflow) (3.6.0)\n",
      "Requirement already satisfied: numpy<1.24,>=1.22 in c:\\users\\olivi\\anaconda3\\python\\lib\\site-packages (from tensorflow-intel==2.12.0->tensorflow) (1.22.4)\n",
      "Requirement already satisfied: gast<=0.4.0,>=0.2.1 in c:\\users\\olivi\\anaconda3\\python\\lib\\site-packages (from tensorflow-intel==2.12.0->tensorflow) (0.4.0)\n",
      "Requirement already satisfied: termcolor>=1.1.0 in c:\\users\\olivi\\anaconda3\\python\\lib\\site-packages (from tensorflow-intel==2.12.0->tensorflow) (2.2.0)\n",
      "Requirement already satisfied: flatbuffers>=2.0 in c:\\users\\olivi\\anaconda3\\python\\lib\\site-packages (from tensorflow-intel==2.12.0->tensorflow) (23.3.3)\n",
      "Requirement already satisfied: tensorflow-estimator<2.13,>=2.12.0 in c:\\users\\olivi\\anaconda3\\python\\lib\\site-packages (from tensorflow-intel==2.12.0->tensorflow) (2.12.0)\n",
      "Requirement already satisfied: jax>=0.3.15 in c:\\users\\olivi\\anaconda3\\python\\lib\\site-packages (from tensorflow-intel==2.12.0->tensorflow) (0.4.8)\n",
      "Requirement already satisfied: libclang>=13.0.0 in c:\\users\\olivi\\anaconda3\\python\\lib\\site-packages (from tensorflow-intel==2.12.0->tensorflow) (16.0.0)\n",
      "Requirement already satisfied: packaging in c:\\users\\olivi\\anaconda3\\python\\lib\\site-packages (from tensorflow-intel==2.12.0->tensorflow) (21.3)\n",
      "Requirement already satisfied: protobuf!=4.21.0,!=4.21.1,!=4.21.2,!=4.21.3,!=4.21.4,!=4.21.5,<5.0.0dev,>=3.20.3 in c:\\users\\olivi\\anaconda3\\python\\lib\\site-packages (from tensorflow-intel==2.12.0->tensorflow) (4.22.3)\n",
      "Requirement already satisfied: absl-py>=1.0.0 in c:\\users\\olivi\\anaconda3\\python\\lib\\site-packages (from tensorflow-intel==2.12.0->tensorflow) (1.4.0)\n",
      "Requirement already satisfied: typing-extensions>=3.6.6 in c:\\users\\olivi\\anaconda3\\python\\lib\\site-packages (from tensorflow-intel==2.12.0->tensorflow) (4.1.1)\n",
      "Requirement already satisfied: setuptools in c:\\users\\olivi\\anaconda3\\python\\lib\\site-packages (from tensorflow-intel==2.12.0->tensorflow) (61.2.0)\n",
      "Requirement already satisfied: grpcio<2.0,>=1.24.3 in c:\\users\\olivi\\anaconda3\\python\\lib\\site-packages (from tensorflow-intel==2.12.0->tensorflow) (1.54.0)\n",
      "Requirement already satisfied: keras<2.13,>=2.12.0 in c:\\users\\olivi\\anaconda3\\python\\lib\\site-packages (from tensorflow-intel==2.12.0->tensorflow) (2.12.0)\n",
      "Requirement already satisfied: wheel<1.0,>=0.23.0 in c:\\users\\olivi\\anaconda3\\python\\lib\\site-packages (from astunparse>=1.6.0->tensorflow-intel==2.12.0->tensorflow) (0.37.1)\n",
      "Requirement already satisfied: scipy>=1.7 in c:\\users\\olivi\\anaconda3\\python\\lib\\site-packages (from jax>=0.3.15->tensorflow-intel==2.12.0->tensorflow) (1.7.3)\n",
      "Requirement already satisfied: ml-dtypes>=0.0.3 in c:\\users\\olivi\\anaconda3\\python\\lib\\site-packages (from jax>=0.3.15->tensorflow-intel==2.12.0->tensorflow) (0.1.0)\n",
      "Requirement already satisfied: google-auth-oauthlib<1.1,>=0.5 in c:\\users\\olivi\\anaconda3\\python\\lib\\site-packages (from tensorboard<2.13,>=2.12->tensorflow-intel==2.12.0->tensorflow) (1.0.0)\n",
      "Requirement already satisfied: werkzeug>=1.0.1 in c:\\users\\olivi\\anaconda3\\python\\lib\\site-packages (from tensorboard<2.13,>=2.12->tensorflow-intel==2.12.0->tensorflow) (2.0.3)\n",
      "Requirement already satisfied: tensorboard-plugin-wit>=1.6.0 in c:\\users\\olivi\\anaconda3\\python\\lib\\site-packages (from tensorboard<2.13,>=2.12->tensorflow-intel==2.12.0->tensorflow) (1.8.1)\n",
      "Requirement already satisfied: requests<3,>=2.21.0 in c:\\users\\olivi\\anaconda3\\python\\lib\\site-packages (from tensorboard<2.13,>=2.12->tensorflow-intel==2.12.0->tensorflow) (2.27.1)\n",
      "Requirement already satisfied: google-auth<3,>=1.6.3 in c:\\users\\olivi\\anaconda3\\python\\lib\\site-packages (from tensorboard<2.13,>=2.12->tensorflow-intel==2.12.0->tensorflow) (2.17.3)\n",
      "Requirement already satisfied: markdown>=2.6.8 in c:\\users\\olivi\\anaconda3\\python\\lib\\site-packages (from tensorboard<2.13,>=2.12->tensorflow-intel==2.12.0->tensorflow) (3.3.4)\n",
      "Requirement already satisfied: tensorboard-data-server<0.8.0,>=0.7.0 in c:\\users\\olivi\\anaconda3\\python\\lib\\site-packages (from tensorboard<2.13,>=2.12->tensorflow-intel==2.12.0->tensorflow) (0.7.0)\n",
      "Requirement already satisfied: rsa<5,>=3.1.4 in c:\\users\\olivi\\anaconda3\\python\\lib\\site-packages (from google-auth<3,>=1.6.3->tensorboard<2.13,>=2.12->tensorflow-intel==2.12.0->tensorflow) (4.7.2)\n",
      "Requirement already satisfied: pyasn1-modules>=0.2.1 in c:\\users\\olivi\\anaconda3\\python\\lib\\site-packages (from google-auth<3,>=1.6.3->tensorboard<2.13,>=2.12->tensorflow-intel==2.12.0->tensorflow) (0.2.8)\n",
      "Requirement already satisfied: cachetools<6.0,>=2.0.0 in c:\\users\\olivi\\anaconda3\\python\\lib\\site-packages (from google-auth<3,>=1.6.3->tensorboard<2.13,>=2.12->tensorflow-intel==2.12.0->tensorflow) (4.2.2)\n",
      "Requirement already satisfied: requests-oauthlib>=0.7.0 in c:\\users\\olivi\\anaconda3\\python\\lib\\site-packages (from google-auth-oauthlib<1.1,>=0.5->tensorboard<2.13,>=2.12->tensorflow-intel==2.12.0->tensorflow) (1.3.1)\n",
      "Requirement already satisfied: pyasn1<0.5.0,>=0.4.6 in c:\\users\\olivi\\anaconda3\\python\\lib\\site-packages (from pyasn1-modules>=0.2.1->google-auth<3,>=1.6.3->tensorboard<2.13,>=2.12->tensorflow-intel==2.12.0->tensorflow) (0.4.8)\n",
      "Requirement already satisfied: urllib3<1.27,>=1.21.1 in c:\\users\\olivi\\anaconda3\\python\\lib\\site-packages (from requests<3,>=2.21.0->tensorboard<2.13,>=2.12->tensorflow-intel==2.12.0->tensorflow) (1.26.9)\n",
      "Requirement already satisfied: charset-normalizer~=2.0.0 in c:\\users\\olivi\\anaconda3\\python\\lib\\site-packages (from requests<3,>=2.21.0->tensorboard<2.13,>=2.12->tensorflow-intel==2.12.0->tensorflow) (2.0.4)\n",
      "Requirement already satisfied: certifi>=2017.4.17 in c:\\users\\olivi\\anaconda3\\python\\lib\\site-packages (from requests<3,>=2.21.0->tensorboard<2.13,>=2.12->tensorflow-intel==2.12.0->tensorflow) (2021.10.8)\n",
      "Requirement already satisfied: idna<4,>=2.5 in c:\\users\\olivi\\anaconda3\\python\\lib\\site-packages (from requests<3,>=2.21.0->tensorboard<2.13,>=2.12->tensorflow-intel==2.12.0->tensorflow) (3.3)\n",
      "Requirement already satisfied: oauthlib>=3.0.0 in c:\\users\\olivi\\anaconda3\\python\\lib\\site-packages (from requests-oauthlib>=0.7.0->google-auth-oauthlib<1.1,>=0.5->tensorboard<2.13,>=2.12->tensorflow-intel==2.12.0->tensorflow) (3.2.2)\n",
      "Requirement already satisfied: pyparsing!=3.0.5,>=2.0.2 in c:\\users\\olivi\\anaconda3\\python\\lib\\site-packages (from packaging->tensorflow-intel==2.12.0->tensorflow) (3.0.4)\n",
      "Note: you may need to restart the kernel to use updated packages.\n"
     ]
    }
   ],
   "source": [
    "#pip install tensorflow"
   ]
  },
  {
   "cell_type": "code",
   "execution_count": 6,
   "id": "83edade2",
   "metadata": {
    "collapsed": true
   },
   "outputs": [
    {
     "name": "stdout",
     "output_type": "stream",
     "text": [
      "Requirement already satisfied: pixellib in c:\\users\\olivi\\anaconda3\\python\\lib\\site-packages (0.7.1)\n",
      "Requirement already satisfied: iopath in c:\\users\\olivi\\anaconda3\\python\\lib\\site-packages (from pixellib) (0.1.10)\n",
      "Requirement already satisfied: pillow in c:\\users\\olivi\\anaconda3\\python\\lib\\site-packages (from pixellib) (9.4.0)\n",
      "Requirement already satisfied: cloudpickle in c:\\users\\olivi\\anaconda3\\python\\lib\\site-packages (from pixellib) (2.0.0)\n",
      "Requirement already satisfied: future in c:\\users\\olivi\\anaconda3\\python\\lib\\site-packages (from pixellib) (0.18.2)\n",
      "Requirement already satisfied: termcolor in c:\\users\\olivi\\anaconda3\\python\\lib\\site-packages (from pixellib) (2.2.0)\n",
      "Requirement already satisfied: omegaconf in c:\\users\\olivi\\anaconda3\\python\\lib\\site-packages (from pixellib) (2.3.0)\n",
      "Requirement already satisfied: matplotlib in c:\\users\\olivi\\anaconda3\\python\\lib\\site-packages (from pixellib) (3.5.1)\n",
      "Requirement already satisfied: Cython in c:\\users\\olivi\\anaconda3\\python\\lib\\site-packages (from pixellib) (0.29.28)\n",
      "Requirement already satisfied: dataclasses in c:\\users\\olivi\\anaconda3\\python\\lib\\site-packages (from pixellib) (0.6)\n",
      "Requirement already satisfied: pyQt5 in c:\\users\\olivi\\anaconda3\\python\\lib\\site-packages (from pixellib) (5.15.9)\n",
      "Requirement already satisfied: black in c:\\users\\olivi\\anaconda3\\python\\lib\\site-packages (from pixellib) (19.10b0)\n",
      "Requirement already satisfied: tqdm in c:\\users\\olivi\\anaconda3\\python\\lib\\site-packages (from pixellib) (4.64.0)\n",
      "Requirement already satisfied: scikit-image in c:\\users\\olivi\\anaconda3\\python\\lib\\site-packages (from pixellib) (0.19.2)\n",
      "Requirement already satisfied: imgaug in c:\\users\\olivi\\anaconda3\\python\\lib\\site-packages (from pixellib) (0.4.0)\n",
      "Requirement already satisfied: imantics in c:\\users\\olivi\\anaconda3\\python\\lib\\site-packages (from pixellib) (0.1.12)\n",
      "Requirement already satisfied: yacs in c:\\users\\olivi\\anaconda3\\python\\lib\\site-packages (from pixellib) (0.1.8)\n",
      "Requirement already satisfied: tabulate in c:\\users\\olivi\\anaconda3\\python\\lib\\site-packages (from pixellib) (0.8.9)\n",
      "Requirement already satisfied: pydot in c:\\users\\olivi\\anaconda3\\python\\lib\\site-packages (from pixellib) (1.4.2)\n",
      "Requirement already satisfied: opencv-python in c:\\users\\olivi\\anaconda3\\python\\lib\\site-packages (from pixellib) (4.7.0.72)\n",
      "Requirement already satisfied: hydra-core in c:\\users\\olivi\\anaconda3\\python\\lib\\site-packages (from pixellib) (1.3.2)\n",
      "Requirement already satisfied: fvcore in c:\\users\\olivi\\anaconda3\\python\\lib\\site-packages (from pixellib) (0.1.5.post20221221)\n",
      "Requirement already satisfied: labelme2coco in c:\\users\\olivi\\anaconda3\\python\\lib\\site-packages (from pixellib) (0.2.4)\n",
      "Requirement already satisfied: toml>=0.9.4 in c:\\users\\olivi\\anaconda3\\python\\lib\\site-packages (from black->pixellib) (0.10.2)\n",
      "Requirement already satisfied: click>=6.5 in c:\\users\\olivi\\anaconda3\\python\\lib\\site-packages (from black->pixellib) (8.0.4)\n",
      "Requirement already satisfied: attrs>=18.1.0 in c:\\users\\olivi\\anaconda3\\python\\lib\\site-packages (from black->pixellib) (21.4.0)\n",
      "Requirement already satisfied: regex in c:\\users\\olivi\\anaconda3\\python\\lib\\site-packages (from black->pixellib) (2022.3.15)\n",
      "Requirement already satisfied: pathspec<1,>=0.6 in c:\\users\\olivi\\anaconda3\\python\\lib\\site-packages (from black->pixellib) (0.7.0)\n",
      "Requirement already satisfied: typed-ast>=1.4.0 in c:\\users\\olivi\\anaconda3\\python\\lib\\site-packages (from black->pixellib) (1.4.3)\n",
      "Requirement already satisfied: appdirs in c:\\users\\olivi\\anaconda3\\python\\lib\\site-packages (from black->pixellib) (1.4.4)\n",
      "Requirement already satisfied: colorama in c:\\users\\olivi\\anaconda3\\python\\lib\\site-packages (from click>=6.5->black->pixellib) (0.4.4)\n",
      "Requirement already satisfied: numpy in c:\\users\\olivi\\anaconda3\\python\\lib\\site-packages (from fvcore->pixellib) (1.22.4)\n",
      "Requirement already satisfied: pyyaml>=5.1 in c:\\users\\olivi\\anaconda3\\python\\lib\\site-packages (from fvcore->pixellib) (6.0)\n",
      "Requirement already satisfied: portalocker in c:\\users\\olivi\\anaconda3\\python\\lib\\site-packages (from iopath->pixellib) (2.7.0)\n",
      "Requirement already satisfied: typing-extensions in c:\\users\\olivi\\anaconda3\\python\\lib\\site-packages (from iopath->pixellib) (4.1.1)\n",
      "Requirement already satisfied: antlr4-python3-runtime==4.9.* in c:\\users\\olivi\\anaconda3\\python\\lib\\site-packages (from hydra-core->pixellib) (4.9.3)\n",
      "Requirement already satisfied: packaging in c:\\users\\olivi\\anaconda3\\python\\lib\\site-packages (from hydra-core->pixellib) (21.3)\n",
      "Requirement already satisfied: lxml in c:\\users\\olivi\\anaconda3\\python\\lib\\site-packages (from imantics->pixellib) (4.8.0)\n",
      "Requirement already satisfied: xmljson in c:\\users\\olivi\\anaconda3\\python\\lib\\site-packages (from imantics->pixellib) (0.2.1)\n",
      "Requirement already satisfied: Shapely in c:\\users\\olivi\\anaconda3\\python\\lib\\site-packages (from imgaug->pixellib) (2.0.1)\n",
      "Requirement already satisfied: scipy in c:\\users\\olivi\\anaconda3\\python\\lib\\site-packages (from imgaug->pixellib) (1.7.3)\n",
      "Requirement already satisfied: six in c:\\users\\olivi\\anaconda3\\python\\lib\\site-packages (from imgaug->pixellib) (1.16.0)\n",
      "Requirement already satisfied: imageio in c:\\users\\olivi\\anaconda3\\python\\lib\\site-packages (from imgaug->pixellib) (2.9.0)\n",
      "Requirement already satisfied: tifffile>=2019.7.26 in c:\\users\\olivi\\anaconda3\\python\\lib\\site-packages (from scikit-image->pixellib) (2021.7.2)\n",
      "Note: you may need to restart the kernel to use updated packages.\n",
      "Requirement already satisfied: networkx>=2.2 in c:\\users\\olivi\\anaconda3\\python\\lib\\site-packages (from scikit-image->pixellib) (2.7.1)\n",
      "Requirement already satisfied: PyWavelets>=1.1.1 in c:\\users\\olivi\\anaconda3\\python\\lib\\site-packages (from scikit-image->pixellib) (1.3.0)\n",
      "Requirement already satisfied: pyparsing!=3.0.5,>=2.0.2 in c:\\users\\olivi\\anaconda3\\python\\lib\\site-packages (from packaging->hydra-core->pixellib) (3.0.4)\n",
      "Requirement already satisfied: sahi>=0.8.19 in c:\\users\\olivi\\anaconda3\\python\\lib\\site-packages (from labelme2coco->pixellib) (0.11.13)\n",
      "Requirement already satisfied: jsonschema>=2.6.0 in c:\\users\\olivi\\anaconda3\\python\\lib\\site-packages (from labelme2coco->pixellib) (4.4.0)\n",
      "Requirement already satisfied: pyrsistent!=0.17.0,!=0.17.1,!=0.17.2,>=0.14.0 in c:\\users\\olivi\\anaconda3\\python\\lib\\site-packages (from jsonschema>=2.6.0->labelme2coco->pixellib) (0.18.0)\n",
      "Requirement already satisfied: requests in c:\\users\\olivi\\anaconda3\\python\\lib\\site-packages (from sahi>=0.8.19->labelme2coco->pixellib) (2.27.1)\n",
      "Requirement already satisfied: terminaltables in c:\\users\\olivi\\anaconda3\\python\\lib\\site-packages (from sahi>=0.8.19->labelme2coco->pixellib) (3.1.10)\n",
      "Requirement already satisfied: pybboxes==0.1.6 in c:\\users\\olivi\\anaconda3\\python\\lib\\site-packages (from sahi>=0.8.19->labelme2coco->pixellib) (0.1.6)\n",
      "Requirement already satisfied: fire in c:\\users\\olivi\\anaconda3\\python\\lib\\site-packages (from sahi>=0.8.19->labelme2coco->pixellib) (0.5.0)\n",
      "Requirement already satisfied: cycler>=0.10 in c:\\users\\olivi\\anaconda3\\python\\lib\\site-packages (from matplotlib->pixellib) (0.11.0)\n",
      "Requirement already satisfied: kiwisolver>=1.0.1 in c:\\users\\olivi\\anaconda3\\python\\lib\\site-packages (from matplotlib->pixellib) (1.3.2)\n",
      "Requirement already satisfied: python-dateutil>=2.7 in c:\\users\\olivi\\anaconda3\\python\\lib\\site-packages (from matplotlib->pixellib) (2.8.2)\n",
      "Requirement already satisfied: fonttools>=4.22.0 in c:\\users\\olivi\\anaconda3\\python\\lib\\site-packages (from matplotlib->pixellib) (4.25.0)\n",
      "Requirement already satisfied: pywin32>=226 in c:\\users\\olivi\\anaconda3\\python\\lib\\site-packages (from portalocker->iopath->pixellib) (302)\n",
      "Requirement already satisfied: PyQt5-sip<13,>=12.11 in c:\\users\\olivi\\anaconda3\\python\\lib\\site-packages (from pyQt5->pixellib) (12.12.0)\n",
      "Requirement already satisfied: PyQt5-Qt5>=5.15.2 in c:\\users\\olivi\\anaconda3\\python\\lib\\site-packages (from pyQt5->pixellib) (5.15.2)\n",
      "Requirement already satisfied: charset-normalizer~=2.0.0 in c:\\users\\olivi\\anaconda3\\python\\lib\\site-packages (from requests->sahi>=0.8.19->labelme2coco->pixellib) (2.0.4)\n",
      "Requirement already satisfied: urllib3<1.27,>=1.21.1 in c:\\users\\olivi\\anaconda3\\python\\lib\\site-packages (from requests->sahi>=0.8.19->labelme2coco->pixellib) (1.26.9)\n",
      "Requirement already satisfied: certifi>=2017.4.17 in c:\\users\\olivi\\anaconda3\\python\\lib\\site-packages (from requests->sahi>=0.8.19->labelme2coco->pixellib) (2021.10.8)\n",
      "Requirement already satisfied: idna<4,>=2.5 in c:\\users\\olivi\\anaconda3\\python\\lib\\site-packages (from requests->sahi>=0.8.19->labelme2coco->pixellib) (3.3)\n"
     ]
    }
   ],
   "source": [
    "#pip install pixellib"
   ]
  },
  {
   "cell_type": "code",
   "execution_count": 11,
   "id": "0446ce85",
   "metadata": {},
   "outputs": [
    {
     "name": "stdout",
     "output_type": "stream",
     "text": [
      "Requirement already satisfied: cryptography==38.0.4 in c:\\users\\olivi\\anaconda3\\python\\lib\\site-packages (38.0.4)\n",
      "Requirement already satisfied: cffi>=1.12 in c:\\users\\olivi\\anaconda3\\python\\lib\\site-packages (from cryptography==38.0.4) (1.15.0)\n",
      "Requirement already satisfied: pycparser in c:\\users\\olivi\\anaconda3\\python\\lib\\site-packages (from cffi>=1.12->cryptography==38.0.4) (2.21)\n",
      "Note: you may need to restart the kernel to use updated packages.\n"
     ]
    }
   ],
   "source": [
    "#pip install cryptography==38.0.4"
   ]
  },
  {
   "cell_type": "code",
   "execution_count": 1,
   "id": "cc9a435d",
   "metadata": {},
   "outputs": [],
   "source": [
    "import pixellib\n",
    "from pixellib.instance import instance_segmentation"
   ]
  },
  {
   "cell_type": "code",
   "execution_count": 2,
   "id": "c587174f",
   "metadata": {},
   "outputs": [
    {
     "name": "stdout",
     "output_type": "stream",
     "text": [
      "WARNING:tensorflow:From C:\\Users\\olivi\\anaconda3\\Python\\lib\\site-packages\\tensorflow\\python\\util\\deprecation.py:648: calling map_fn_v2 (from tensorflow.python.ops.map_fn) with dtype is deprecated and will be removed in a future version.\n",
      "Instructions for updating:\n",
      "Use fn_output_signature instead\n"
     ]
    }
   ],
   "source": [
    "segment_image=instance_segmentation()\n",
    "segment_image.load_model('mask_rcnn_coco.h5')"
   ]
  },
  {
   "cell_type": "code",
   "execution_count": 3,
   "id": "d15b5ce4",
   "metadata": {},
   "outputs": [
    {
     "name": "stderr",
     "output_type": "stream",
     "text": [
      "C:\\Users\\olivi\\anaconda3\\Python\\lib\\site-packages\\keras\\engine\\training_v1.py:2359: UserWarning: `Model.state_updates` will be removed in a future version. This property should not be used in TensorFlow 2.0, as `updates` are applied automatically.\n",
      "  updates=self.state_updates,\n"
     ]
    },
    {
     "name": "stdout",
     "output_type": "stream",
     "text": [
      "Processed image saved successfully in your current working directory.\n"
     ]
    },
    {
     "ename": "error",
     "evalue": "OpenCV(4.7.0) D:\\a\\opencv-python\\opencv-python\\opencv\\modules\\imgcodecs\\src\\loadsave.cpp:783: error: (-215:Assertion failed) !_img.empty() in function 'cv::imwrite'\n",
     "output_type": "error",
     "traceback": [
      "\u001b[1;31m---------------------------------------------------------------------------\u001b[0m",
      "\u001b[1;31merror\u001b[0m                                     Traceback (most recent call last)",
      "Input \u001b[1;32mIn [3]\u001b[0m, in \u001b[0;36m<cell line: 1>\u001b[1;34m()\u001b[0m\n\u001b[1;32m----> 1\u001b[0m \u001b[43msegment_image\u001b[49m\u001b[38;5;241;43m.\u001b[39;49m\u001b[43msegmentImage\u001b[49m\u001b[43m(\u001b[49m\u001b[38;5;124;43m\"\u001b[39;49m\u001b[38;5;124;43msample4.jpeg\u001b[39;49m\u001b[38;5;124;43m\"\u001b[39;49m\u001b[43m,\u001b[49m\u001b[43m \u001b[49m\u001b[43mextract_segmented_objects\u001b[49m\u001b[38;5;241;43m=\u001b[39;49m\u001b[38;5;28;43;01mTrue\u001b[39;49;00m\u001b[43m,\u001b[49m\n\u001b[0;32m      2\u001b[0m \u001b[43msave_extracted_objects\u001b[49m\u001b[38;5;241;43m=\u001b[39;49m\u001b[38;5;28;43;01mTrue\u001b[39;49;00m\u001b[43m,\u001b[49m\u001b[43m \u001b[49m\u001b[43mshow_bboxes\u001b[49m\u001b[38;5;241;43m=\u001b[39;49m\u001b[38;5;28;43;01mTrue\u001b[39;49;00m\u001b[43m,\u001b[49m\u001b[43m  \u001b[49m\u001b[43moutput_image_name\u001b[49m\u001b[38;5;241;43m=\u001b[39;49m\u001b[38;5;124;43m\"\u001b[39;49m\u001b[38;5;124;43moutput.jpeg\u001b[39;49m\u001b[38;5;124;43m\"\u001b[39;49m\u001b[43m)\u001b[49m\n",
      "File \u001b[1;32m~\\anaconda3\\Python\\lib\\site-packages\\pixellib\\instance\\__init__.py:260\u001b[0m, in \u001b[0;36minstance_segmentation.segmentImage\u001b[1;34m(self, image_path, show_bboxes, segment_target_classes, extract_segmented_objects, save_extracted_objects, mask_points_values, output_image_name, text_thickness, text_size, box_thickness, verbose)\u001b[0m\n\u001b[0;32m    258\u001b[0m     \u001b[38;5;28;01mif\u001b[39;00m save_extracted_objects \u001b[38;5;241m==\u001b[39m \u001b[38;5;28;01mTrue\u001b[39;00m:\n\u001b[0;32m    259\u001b[0m         save_path \u001b[38;5;241m=\u001b[39m os\u001b[38;5;241m.\u001b[39mpath\u001b[38;5;241m.\u001b[39mjoin(\u001b[38;5;124m\"\u001b[39m\u001b[38;5;124msegmented_object\u001b[39m\u001b[38;5;124m\"\u001b[39m \u001b[38;5;241m+\u001b[39m \u001b[38;5;124m\"\u001b[39m\u001b[38;5;124m_\u001b[39m\u001b[38;5;124m\"\u001b[39m \u001b[38;5;241m+\u001b[39m \u001b[38;5;28mstr\u001b[39m(m) \u001b[38;5;241m+\u001b[39m \u001b[38;5;124m\"\u001b[39m\u001b[38;5;124m.jpg\u001b[39m\u001b[38;5;124m\"\u001b[39m)\n\u001b[1;32m--> 260\u001b[0m         \u001b[43mcv2\u001b[49m\u001b[38;5;241;43m.\u001b[39;49m\u001b[43mimwrite\u001b[49m\u001b[43m(\u001b[49m\u001b[43msave_path\u001b[49m\u001b[43m,\u001b[49m\u001b[43m \u001b[49m\u001b[43mextracted_objects\u001b[49m\u001b[43m)\u001b[49m\n\u001b[0;32m    262\u001b[0m extracted_objects \u001b[38;5;241m=\u001b[39m np\u001b[38;5;241m.\u001b[39marray(ex, dtype \u001b[38;5;241m=\u001b[39m \u001b[38;5;28mobject\u001b[39m)\n\u001b[0;32m    265\u001b[0m \u001b[38;5;28;01mif\u001b[39;00m mask_points_values \u001b[38;5;241m==\u001b[39m \u001b[38;5;28;01mTrue\u001b[39;00m:\n",
      "\u001b[1;31merror\u001b[0m: OpenCV(4.7.0) D:\\a\\opencv-python\\opencv-python\\opencv\\modules\\imgcodecs\\src\\loadsave.cpp:783: error: (-215:Assertion failed) !_img.empty() in function 'cv::imwrite'\n"
     ]
    }
   ],
   "source": [
    "segment_image.segmentImage(\"sample4.jpeg\", extract_segmented_objects=True,\n",
    "save_extracted_objects=True, show_bboxes=True,  output_image_name=\"output.jpeg\")"
   ]
  },
  {
   "cell_type": "code",
   "execution_count": null,
   "id": "2165fc06",
   "metadata": {},
   "outputs": [],
   "source": []
  }
 ],
 "metadata": {
  "kernelspec": {
   "display_name": "Python 3 (ipykernel)",
   "language": "python",
   "name": "python3"
  },
  "language_info": {
   "codemirror_mode": {
    "name": "ipython",
    "version": 3
   },
   "file_extension": ".py",
   "mimetype": "text/x-python",
   "name": "python",
   "nbconvert_exporter": "python",
   "pygments_lexer": "ipython3",
   "version": "3.9.12"
  }
 },
 "nbformat": 4,
 "nbformat_minor": 5
}
