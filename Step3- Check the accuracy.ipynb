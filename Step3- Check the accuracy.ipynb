{
 "cells": [
  {
   "cell_type": "markdown",
   "id": "cf3247da",
   "metadata": {},
   "source": [
    "# Let's see just how accurate this model is by using some test data!"
   ]
  },
  {
   "cell_type": "code",
   "execution_count": 1,
   "id": "60568a2b",
   "metadata": {},
   "outputs": [],
   "source": [
    "from locale import normalize\n",
    "import numpy as np\n",
    "from keras.models import load_model\n",
    "from keras.preprocessing import image\n",
    "import keras\n",
    "import cv2"
   ]
  },
  {
   "cell_type": "code",
   "execution_count": 2,
   "id": "eb68c511",
   "metadata": {},
   "outputs": [
    {
     "name": "stdout",
     "output_type": "stream",
     "text": [
      "Found 200 images belonging to 3 classes.\n"
     ]
    }
   ],
   "source": [
    "TEST_DIR =  \"C:\\Build\\SnakeImages\\\\test\"\n",
    "\n",
    "test_datagen = image.ImageDataGenerator( rescale= 1. / 255)\n",
    "test_data = test_datagen.flow_from_directory(directory=TEST_DIR , target_size=(224,224) , batch_size=32 , class_mode='binary')"
   ]
  },
  {
   "cell_type": "code",
   "execution_count": 3,
   "id": "7fcb9963",
   "metadata": {},
   "outputs": [
    {
     "name": "stdout",
     "output_type": "stream",
     "text": [
      "test_data.class_indices:  {'NoSnake': 0, 'Snake': 1, 'test': 2}\n"
     ]
    }
   ],
   "source": [
    "# lets print the classes :\n",
    "\n",
    "print(\"test_data.class_indices: \", test_data.class_indices)"
   ]
  },
  {
   "cell_type": "code",
   "execution_count": 4,
   "id": "f0426ef0",
   "metadata": {},
   "outputs": [
    {
     "name": "stdout",
     "output_type": "stream",
     "text": [
      "7/7 [==============================] - 33s 4s/step - loss: 0.4315 - accuracy: 0.8100\n",
      "0.8100000023841858\n"
     ]
    }
   ],
   "source": [
    "#load the saved model :\n",
    "\n",
    "model = load_model('C:\\Build\\SnakeImages\\MyBestModel.h5')\n",
    "\n",
    "#print(model.summary() )\n",
    "\n",
    "acc = model.evaluate(x=test_data)[1]\n",
    "\n",
    "print(acc)"
   ]
  },
  {
   "cell_type": "code",
   "execution_count": 7,
   "id": "49f54a11",
   "metadata": {},
   "outputs": [
    {
     "name": "stdout",
     "output_type": "stream",
     "text": [
      "(224, 224, 3)\n",
      "(1, 224, 224, 3)\n"
     ]
    }
   ],
   "source": [
    "# load an image from the test folder \n",
    "imagePath = r\"C:\\Build\\SnakeImages\\test\\Snake\\image14_1.png\"  # having some trouble here\n",
    "\n",
    "img = image.load_img(imagePath,target_size=(224,224))\n",
    "i = image.img_to_array(img) # convert to array\n",
    "i = i / 255 # -> normalize to our model\n",
    "print(i.shape)\n",
    "\n",
    "input_arr = np.array([i]) # add another dimention \n",
    "print(input_arr.shape)"
   ]
  },
  {
   "cell_type": "code",
   "execution_count": 8,
   "id": "bc7f0a5a",
   "metadata": {},
   "outputs": [
    {
     "name": "stdout",
     "output_type": "stream",
     "text": [
      "1/1 [==============================] - 2s 2s/step\n",
      "0.9956823\n"
     ]
    }
   ],
   "source": [
    "# run the prediction\n",
    "predictions = model.predict(input_arr)[0][0]\n",
    "print(predictions)"
   ]
  },
  {
   "cell_type": "code",
   "execution_count": 9,
   "id": "c4eb4c0a",
   "metadata": {},
   "outputs": [
    {
     "name": "stdout",
     "output_type": "stream",
     "text": [
      "No snake\n"
     ]
    }
   ],
   "source": [
    "# since it is binary if the result is close to 0 there is a snake , and if it close to 1 there is no snake\n",
    "result = round(predictions)\n",
    "if result == 0 :\n",
    "    text = 'Has a snake'\n",
    "else :\n",
    "    text = \"No snake\"\n",
    "\n",
    "\n",
    "print(text)"
   ]
  },
  {
   "cell_type": "code",
   "execution_count": 10,
   "id": "e4d75a8c",
   "metadata": {},
   "outputs": [
    {
     "data": {
      "text/plain": [
       "True"
      ]
     },
     "execution_count": 10,
     "metadata": {},
     "output_type": "execute_result"
    }
   ],
   "source": [
    "imgResult = cv2.imread(imagePath)\n",
    "font = cv2.FONT_HERSHEY_COMPLEX\n",
    "cv2.putText(imgResult, text, (0,20), font, 0.8 , (255,0,0),2 )\n",
    "cv2.imshow('img', imgResult)\n",
    "cv2.waitKey(0)\n",
    "cv2.imwrite(\"C:\\Build\\SnakeImages\\predictImage.jpg\",imgResult)"
   ]
  },
  {
   "cell_type": "markdown",
   "id": "50843d53",
   "metadata": {},
   "source": [
    "# Got an accuracy score of 0.8100, so either that is not so good or there is some confusion/noise within the data or model?\n",
    "#### Ideal is above 95% based on a Google search"
   ]
  }
 ],
 "metadata": {
  "kernelspec": {
   "display_name": "Python 3 (ipykernel)",
   "language": "python",
   "name": "python3"
  },
  "language_info": {
   "codemirror_mode": {
    "name": "ipython",
    "version": 3
   },
   "file_extension": ".py",
   "mimetype": "text/x-python",
   "name": "python",
   "nbconvert_exporter": "python",
   "pygments_lexer": "ipython3",
   "version": "3.11.5"
  }
 },
 "nbformat": 4,
 "nbformat_minor": 5
}
