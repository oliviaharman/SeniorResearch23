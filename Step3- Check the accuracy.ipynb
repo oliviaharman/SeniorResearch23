{
 "cells": [
  {
   "cell_type": "markdown",
   "id": "cf3247da",
   "metadata": {},
   "source": [
    "# Let's see just how accurate this model is by using some test data!"
   ]
  },
  {
   "cell_type": "code",
   "execution_count": null,
   "id": "60568a2b",
   "metadata": {},
   "outputs": [],
   "source": [
    "from locale import normalize\n",
    "import numpy as np\n",
    "from keras.models import load_model\n",
    "from keras.preprocessing import image\n",
    "import keras\n",
    "import cv2"
   ]
  },
  {
   "cell_type": "code",
   "execution_count": null,
   "id": "eb68c511",
   "metadata": {},
   "outputs": [],
   "source": [
    "TEST_DIR =  \"C:\\Build\\SnakeImages\\\\test\"\n",
    "\n",
    "test_datagen = image.ImageDataGenerator( rescale= 1. / 255)\n",
    "test_data = test_datagen.flow_from_directory(directory=TEST_DIR , target_size=(224,224) , batch_size=32 , class_mode='binary')"
   ]
  },
  {
   "cell_type": "code",
   "execution_count": null,
   "id": "7fcb9963",
   "metadata": {},
   "outputs": [],
   "source": [
    "# lets print the classes :\n",
    "\n",
    "print(\"test_data.class_indices: \", test_data.class_indices)"
   ]
  },
  {
   "cell_type": "code",
   "execution_count": null,
   "id": "f0426ef0",
   "metadata": {},
   "outputs": [],
   "source": [
    "#load the saved model :\n",
    "\n",
    "model = load_model('C:/Python-cannot-upload-to-GitHub/BrainTumor/MyBestModel.h5')\n",
    "\n",
    "#print(model.summary() )\n",
    "\n",
    "acc = model.evaluate(x=test_data)[1]\n",
    "\n",
    "print(acc)"
   ]
  },
  {
   "cell_type": "code",
   "execution_count": null,
   "id": "49f54a11",
   "metadata": {},
   "outputs": [],
   "source": [
    "# load an image from the test folder \n",
    "imagePath = \"C:/Python-cannot-upload-to-GitHub/BrainTumor/test/Healthey/Not Cancer  (1523).jpg\"\n",
    "#imagePath = \"C:/Python-cannot-upload-to-GitHub/BrainTumor/test/Brain Tumor/Cancer (17).jpg\"\n",
    "\n",
    "img = image.load_img(imagePath,target_size=(224,224))\n",
    "i = image.img_to_array(img) # convert to array\n",
    "i = i / 255 # -> normalize to our model\n",
    "print(i.shape)\n",
    "\n",
    "input_arr = np.array([i]) # add another dimention \n",
    "print(input_arr.shape)"
   ]
  },
  {
   "cell_type": "code",
   "execution_count": null,
   "id": "bc7f0a5a",
   "metadata": {},
   "outputs": [],
   "source": [
    "# run the prediction\n",
    "predictions = model.predict(input_arr)[0][0]\n",
    "print(predictions)"
   ]
  },
  {
   "cell_type": "code",
   "execution_count": null,
   "id": "c4eb4c0a",
   "metadata": {},
   "outputs": [],
   "source": [
    "# since it is binary if the result is close to 0 it is Tumor , and if it close to 1 it is healthy\n",
    "result = round(predictions)\n",
    "if result == 0 :\n",
    "    text = 'Has a brain tumor'\n",
    "else :\n",
    "    text = \"Brain healthy\"\n",
    "\n",
    "\n",
    "print(text)"
   ]
  },
  {
   "cell_type": "code",
   "execution_count": null,
   "id": "e4d75a8c",
   "metadata": {},
   "outputs": [],
   "source": [
    "imgResult = cv2.imread(imagePath)\n",
    "font = cv2.FONT_HERSHEY_COMPLEX\n",
    "cv2.putText(imgResult, text, (0,20), font, 0.8 , (255,0,0),2 )\n",
    "cv2.imshow('img', imgResult)\n",
    "cv2.waitKey(0)\n",
    "cv2.imwrite(\"C:/Python-cannot-upload-to-GitHub/BrainTumor/predictImage.jpg\",imgResult)"
   ]
  },
  {
   "cell_type": "code",
   "execution_count": null,
   "id": "31012367",
   "metadata": {},
   "outputs": [],
   "source": []
  }
 ],
 "metadata": {
  "kernelspec": {
   "display_name": "Python 3 (ipykernel)",
   "language": "python",
   "name": "python3"
  },
  "language_info": {
   "codemirror_mode": {
    "name": "ipython",
    "version": 3
   },
   "file_extension": ".py",
   "mimetype": "text/x-python",
   "name": "python",
   "nbconvert_exporter": "python",
   "pygments_lexer": "ipython3",
   "version": "3.11.5"
  }
 },
 "nbformat": 4,
 "nbformat_minor": 5
}
