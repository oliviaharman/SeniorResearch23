{
 "cells": [
  {
   "cell_type": "markdown",
   "id": "7f45f804",
   "metadata": {},
   "source": [
    "# PyMuPDF\n",
    "#### Currently working to tune the extraction of the images. Right now the script pulls all pages of the PDF as images - cannot differentiate\n",
    "#### Have to parse through the PDF with a new package - possibly nanonets version"
   ]
  },
  {
   "cell_type": "code",
   "execution_count": 35,
   "id": "a2809399",
   "metadata": {},
   "outputs": [],
   "source": [
    "import fitz"
   ]
  },
  {
   "cell_type": "code",
   "execution_count": 36,
   "id": "5f2bd1b0",
   "metadata": {},
   "outputs": [],
   "source": [
    "file = \"Largen & Spawls 2010 part VI snakes.pdf\""
   ]
  },
  {
   "cell_type": "code",
   "execution_count": 37,
   "id": "e9ae7472",
   "metadata": {},
   "outputs": [],
   "source": [
    "pdf = fitz.open(file)"
   ]
  },
  {
   "cell_type": "code",
   "execution_count": 38,
   "id": "93438705",
   "metadata": {},
   "outputs": [
    {
     "name": "stdout",
     "output_type": "stream",
     "text": [
      "108\n"
     ]
    }
   ],
   "source": [
    "print(pdf.page_count)"
   ]
  },
  {
   "cell_type": "code",
   "execution_count": 39,
   "id": "ec929642",
   "metadata": {},
   "outputs": [
    {
     "data": {
      "text/plain": [
       "<bound method Document.load_page of Document('Largen & Spawls 2010 part VI snakes.pdf')>"
      ]
     },
     "execution_count": 39,
     "metadata": {},
     "output_type": "execute_result"
    }
   ],
   "source": [
    "pdf.load_page"
   ]
  },
  {
   "cell_type": "code",
   "execution_count": 1,
   "id": "a7c7803e",
   "metadata": {},
   "outputs": [],
   "source": [
    "# Parse"
   ]
  }
 ],
 "metadata": {
  "kernelspec": {
   "display_name": "Python 3 (ipykernel)",
   "language": "python",
   "name": "python3"
  },
  "language_info": {
   "codemirror_mode": {
    "name": "ipython",
    "version": 3
   },
   "file_extension": ".py",
   "mimetype": "text/x-python",
   "name": "python",
   "nbconvert_exporter": "python",
   "pygments_lexer": "ipython3",
   "version": "3.9.12"
  }
 },
 "nbformat": 4,
 "nbformat_minor": 5
}
