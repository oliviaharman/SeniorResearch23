{
 "cells": [
  {
   "cell_type": "markdown",
   "id": "7f45f804",
   "metadata": {},
   "source": [
    "# PyMuPDF\n",
    "#### Currently working to tune the extraction of the images. Right now the script pulls all pages of the PDF as images - cannot differentiate\n",
    "#### Might have to look into the xref tables for each PDF and extract the images that way?"
   ]
  },
  {
   "cell_type": "code",
   "execution_count": 35,
   "id": "a2809399",
   "metadata": {},
   "outputs": [],
   "source": [
    "import fitz"
   ]
  },
  {
   "cell_type": "code",
   "execution_count": 36,
   "id": "5f2bd1b0",
   "metadata": {},
   "outputs": [],
   "source": [
    "file = \"Largen & Spawls 2010 part VI snakes.pdf\""
   ]
  },
  {
   "cell_type": "code",
   "execution_count": 37,
   "id": "e9ae7472",
   "metadata": {},
   "outputs": [],
   "source": [
    "pdf = fitz.open(file)"
   ]
  },
  {
   "cell_type": "code",
   "execution_count": 38,
   "id": "93438705",
   "metadata": {},
   "outputs": [
    {
     "name": "stdout",
     "output_type": "stream",
     "text": [
      "108\n"
     ]
    }
   ],
   "source": [
    "print(pdf.page_count)"
   ]
  },
  {
   "cell_type": "code",
   "execution_count": 39,
   "id": "ec929642",
   "metadata": {},
   "outputs": [
    {
     "data": {
      "text/plain": [
       "<bound method Document.load_page of Document('Largen & Spawls 2010 part VI snakes.pdf')>"
      ]
     },
     "execution_count": 39,
     "metadata": {},
     "output_type": "execute_result"
    }
   ],
   "source": [
    "pdf.load_page"
   ]
  },
  {
   "cell_type": "code",
   "execution_count": 40,
   "id": "7c35fde1",
   "metadata": {},
   "outputs": [],
   "source": [
    "# iterate over PDF pages\n",
    "for page_index in range(len(pdf)):\n",
    " \n",
    "    # get the page itself\n",
    "    page = pdf[page_index]\n",
    "    image_list = page.get_images(xref)\n",
    " "
   ]
  },
  {
   "cell_type": "code",
   "execution_count": 44,
   "id": "a2f46ab0",
   "metadata": {},
   "outputs": [
    {
     "name": "stdout",
     "output_type": "stream",
     "text": [
      "754\n",
      "107\n"
     ]
    }
   ],
   "source": [
    "print(xref)\n",
    "print(page_index)\n",
    "# is this accurate?"
   ]
  },
  {
   "cell_type": "code",
   "execution_count": 42,
   "id": "19ea69ae",
   "metadata": {},
   "outputs": [],
   "source": [
    "pix = fitz.Pixmap(pdf, 754)\n",
    "# these aren't doing aything :( miss a step??"
   ]
  },
  {
   "cell_type": "code",
   "execution_count": 43,
   "id": "1a224bb3",
   "metadata": {},
   "outputs": [],
   "source": [
    "img = pdf.extract_image(754)"
   ]
  },
  {
   "cell_type": "code",
   "execution_count": null,
   "id": "a7c7803e",
   "metadata": {},
   "outputs": [],
   "source": []
  }
 ],
 "metadata": {
  "kernelspec": {
   "display_name": "Python 3 (ipykernel)",
   "language": "python",
   "name": "python3"
  },
  "language_info": {
   "codemirror_mode": {
    "name": "ipython",
    "version": 3
   },
   "file_extension": ".py",
   "mimetype": "text/x-python",
   "name": "python",
   "nbconvert_exporter": "python",
   "pygments_lexer": "ipython3",
   "version": "3.9.12"
  }
 },
 "nbformat": 4,
 "nbformat_minor": 5
}
