{
 "cells": [
  {
   "cell_type": "markdown",
   "id": "7f45f804",
   "metadata": {},
   "source": [
    "# PyMuPDF"
   ]
  },
  {
   "cell_type": "code",
   "execution_count": 1,
   "id": "a2809399",
   "metadata": {},
   "outputs": [],
   "source": [
    "import fitz"
   ]
  },
  {
   "cell_type": "code",
   "execution_count": 2,
   "id": "5f2bd1b0",
   "metadata": {},
   "outputs": [],
   "source": [
    "file = \"Largen & Spawls 2010 part VI snakes.pdf\""
   ]
  },
  {
   "cell_type": "code",
   "execution_count": 3,
   "id": "e9ae7472",
   "metadata": {},
   "outputs": [],
   "source": [
    "pdf = fitz.open(file)"
   ]
  },
  {
   "cell_type": "code",
   "execution_count": 5,
   "id": "93438705",
   "metadata": {},
   "outputs": [
    {
     "ename": "NameError",
     "evalue": "name 'xref' is not defined",
     "output_type": "error",
     "traceback": [
      "\u001b[1;31m---------------------------------------------------------------------------\u001b[0m",
      "\u001b[1;31mNameError\u001b[0m                                 Traceback (most recent call last)",
      "Input \u001b[1;32mIn [5]\u001b[0m, in \u001b[0;36m<cell line: 1>\u001b[1;34m()\u001b[0m\n\u001b[1;32m----> 1\u001b[0m pix \u001b[38;5;241m=\u001b[39m fitz\u001b[38;5;241m.\u001b[39mPixmap(file, \u001b[43mxref\u001b[49m)\n",
      "\u001b[1;31mNameError\u001b[0m: name 'xref' is not defined"
     ]
    }
   ],
   "source": [
    "#PDF plumber tut on youtube"
   ]
  },
  {
   "cell_type": "code",
   "execution_count": null,
   "id": "986c956e",
   "metadata": {},
   "outputs": [],
   "source": []
  }
 ],
 "metadata": {
  "kernelspec": {
   "display_name": "Python 3 (ipykernel)",
   "language": "python",
   "name": "python3"
  },
  "language_info": {
   "codemirror_mode": {
    "name": "ipython",
    "version": 3
   },
   "file_extension": ".py",
   "mimetype": "text/x-python",
   "name": "python",
   "nbconvert_exporter": "python",
   "pygments_lexer": "ipython3",
   "version": "3.9.12"
  }
 },
 "nbformat": 4,
 "nbformat_minor": 5
}
