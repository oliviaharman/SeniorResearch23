{
 "cells": [
  {
   "cell_type": "markdown",
   "id": "7f45f804",
   "metadata": {},
   "source": [
    "# PyMuPDF\n",
    "#### Using Pixmaps to pull the images - some of the commands in the tutorial I followed are outdated - errors can be fixed using the updated command (specifically saving the Pixmap) "
   ]
  },
  {
   "cell_type": "code",
   "execution_count": 1,
   "id": "a2809399",
   "metadata": {},
   "outputs": [],
   "source": [
    "import fitz"
   ]
  },
  {
   "cell_type": "code",
   "execution_count": 10,
   "id": "0da1ba05",
   "metadata": {},
   "outputs": [],
   "source": [
    "file = \"Largen & Spawls 2010 part VI snakes.pdf\""
   ]
  },
  {
   "cell_type": "code",
   "execution_count": 11,
   "id": "e9ae7472",
   "metadata": {},
   "outputs": [],
   "source": [
    "pdf = fitz.open(file)"
   ]
  },
  {
   "cell_type": "code",
   "execution_count": 12,
   "id": "93438705",
   "metadata": {},
   "outputs": [
    {
     "name": "stdout",
     "output_type": "stream",
     "text": [
      "39\n"
     ]
    }
   ],
   "source": [
    "page = len(file)\n",
    "print(page)\n",
    "# hmmm only says 39 pages"
   ]
  },
  {
   "cell_type": "code",
   "execution_count": 13,
   "id": "ec929642",
   "metadata": {},
   "outputs": [
    {
     "name": "stdout",
     "output_type": "stream",
     "text": [
      "108\n"
     ]
    }
   ],
   "source": [
    "print(pdf.page_count)\n",
    "# this shows 108, the true number"
   ]
  },
  {
   "cell_type": "code",
   "execution_count": 22,
   "id": "a7c7803e",
   "metadata": {},
   "outputs": [
    {
     "data": {
      "text/plain": [
       "[(61, 0, 1770, 2421, 8, 'DeviceRGB', '', 'I8', 'DCTDecode')]"
      ]
     },
     "execution_count": 22,
     "metadata": {},
     "output_type": "execute_result"
    }
   ],
   "source": [
    "pdf.get_page_images(8) #maybe?"
   ]
  },
  {
   "cell_type": "code",
   "execution_count": 32,
   "id": "af1aeaac",
   "metadata": {},
   "outputs": [
    {
     "ename": "AttributeError",
     "evalue": "'Pixmap' object has no attribute 'Pixmap'",
     "output_type": "error",
     "traceback": [
      "\u001b[1;31m---------------------------------------------------------------------------\u001b[0m",
      "\u001b[1;31mAttributeError\u001b[0m                            Traceback (most recent call last)",
      "Input \u001b[1;32mIn [32]\u001b[0m, in \u001b[0;36m<cell line: 1>\u001b[1;34m()\u001b[0m\n\u001b[0;32m      5\u001b[0m pic \u001b[38;5;241m=\u001b[39m fitz\u001b[38;5;241m.\u001b[39mPixmap(pdf, customxref)\n\u001b[0;32m      6\u001b[0m finalpic \u001b[38;5;241m=\u001b[39m fitz\u001b[38;5;241m.\u001b[39mPixmap(fitz\u001b[38;5;241m.\u001b[39mcsRGB, pic)\n\u001b[1;32m----> 7\u001b[0m \u001b[43mfinalpic\u001b[49m\u001b[38;5;241;43m.\u001b[39;49m\u001b[43mPixmap\u001b[49m\u001b[38;5;241m.\u001b[39msave()  \u001b[38;5;66;03m#documentation of this lib was udpated\u001b[39;00m\n\u001b[0;32m      8\u001b[0m pic \u001b[38;5;241m=\u001b[39m \u001b[38;5;28;01mNone\u001b[39;00m\n\u001b[0;32m      9\u001b[0m finalpic \u001b[38;5;241m=\u001b[39m \u001b[38;5;28;01mNone\u001b[39;00m\n",
      "\u001b[1;31mAttributeError\u001b[0m: 'Pixmap' object has no attribute 'Pixmap'"
     ]
    }
   ],
   "source": [
    "for i in range(page):\n",
    "    for image in pdf.get_page_images(i):\n",
    "        j = 0\n",
    "        customxref = image[0]\n",
    "        pic = fitz.Pixmap(pdf, customxref)\n",
    "        finalpic = fitz.Pixmap(fitz.csRGB, pic)\n",
    "        finalpic.Pixmap.save()  #documentation of this lib was udpated\n",
    "        pic = None\n",
    "        finalpic = None"
   ]
  },
  {
   "cell_type": "code",
   "execution_count": null,
   "id": "09bb7796",
   "metadata": {},
   "outputs": [],
   "source": []
  }
 ],
 "metadata": {
  "kernelspec": {
   "display_name": "Python 3 (ipykernel)",
   "language": "python",
   "name": "python3"
  },
  "language_info": {
   "codemirror_mode": {
    "name": "ipython",
    "version": 3
   },
   "file_extension": ".py",
   "mimetype": "text/x-python",
   "name": "python",
   "nbconvert_exporter": "python",
   "pygments_lexer": "ipython3",
   "version": "3.9.12"
  }
 },
 "nbformat": 4,
 "nbformat_minor": 5
}
