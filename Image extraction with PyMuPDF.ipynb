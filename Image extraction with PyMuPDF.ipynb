{
 "cells": [
  {
   "cell_type": "markdown",
   "id": "7f45f804",
   "metadata": {},
   "source": [
    "# PyMuPDF"
   ]
  },
  {
   "cell_type": "code",
   "execution_count": 1,
   "id": "a2809399",
   "metadata": {},
   "outputs": [],
   "source": [
    "import fitz"
   ]
  },
  {
   "cell_type": "code",
   "execution_count": 2,
   "id": "5f2bd1b0",
   "metadata": {},
   "outputs": [],
   "source": [
    "file = \"Largen & Spawls 2010 part VI snakes.pdf\""
   ]
  },
  {
   "cell_type": "code",
   "execution_count": 3,
   "id": "e9ae7472",
   "metadata": {},
   "outputs": [],
   "source": [
    "pdf = fitz.open(file)"
   ]
  },
  {
   "cell_type": "code",
   "execution_count": null,
   "id": "6fd8f115",
   "metadata": {},
   "outputs": [],
   "source": [
    "image_list = pdf.getPageImageList(0)\n",
    "for image in image_list"
   ]
  }
 ],
 "metadata": {
  "kernelspec": {
   "display_name": "Python 3 (ipykernel)",
   "language": "python",
   "name": "python3"
  },
  "language_info": {
   "codemirror_mode": {
    "name": "ipython",
    "version": 3
   },
   "file_extension": ".py",
   "mimetype": "text/x-python",
   "name": "python",
   "nbconvert_exporter": "python",
   "pygments_lexer": "ipython3",
   "version": "3.9.12"
  }
 },
 "nbformat": 4,
 "nbformat_minor": 5
}
