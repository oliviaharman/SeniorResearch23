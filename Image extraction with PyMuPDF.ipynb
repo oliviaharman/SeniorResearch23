{
 "cells": [
  {
   "cell_type": "markdown",
   "id": "7f45f804",
   "metadata": {},
   "source": [
    "# PyMuPDF\n",
    "#### Using Pixmaps to pull the images - some of the commands in the tutorial I followed are outdated - errors can be fixed using the updated command (specifically saving the Pixmap) "
   ]
  },
  {
   "cell_type": "code",
   "execution_count": 8,
   "id": "a2809399",
   "metadata": {},
   "outputs": [],
   "source": [
    "import fitz\n",
    "import io\n",
    "from PIL import Image"
   ]
  },
  {
   "cell_type": "code",
   "execution_count": 9,
   "id": "0da1ba05",
   "metadata": {},
   "outputs": [],
   "source": [
    "filename = \"Largen & Spawls 2010 part VI snakes.pdf\""
   ]
  },
  {
   "cell_type": "code",
   "execution_count": 24,
   "id": "e9ae7472",
   "metadata": {},
   "outputs": [
    {
     "ename": "AttributeError",
     "evalue": "'Page' object has no attribute 'get_Images'",
     "output_type": "error",
     "traceback": [
      "\u001b[1;31m---------------------------------------------------------------------------\u001b[0m",
      "\u001b[1;31mAttributeError\u001b[0m                            Traceback (most recent call last)",
      "Input \u001b[1;32mIn [24]\u001b[0m, in \u001b[0;36m<cell line: 2>\u001b[1;34m()\u001b[0m\n\u001b[0;32m      6\u001b[0m      page \u001b[38;5;241m=\u001b[39m my_pdf_file[page_number\u001b[38;5;241m-\u001b[39m\u001b[38;5;241m1\u001b[39m]\n\u001b[0;32m      7\u001b[0m         \u001b[38;5;66;03m# acess all of the images on the page (there's only one on this page)\u001b[39;00m\n\u001b[1;32m----> 8\u001b[0m      images \u001b[38;5;241m=\u001b[39m \u001b[43mpage\u001b[49m\u001b[38;5;241;43m.\u001b[39;49m\u001b[43mget_Images\u001b[49m()  \u001b[38;5;66;03m#updated command whoops\u001b[39;00m\n\u001b[0;32m      9\u001b[0m         \u001b[38;5;66;03m# check if images are there\u001b[39;00m\n\u001b[0;32m     10\u001b[0m \u001b[38;5;28;01mif\u001b[39;00m images:\n",
      "\u001b[1;31mAttributeError\u001b[0m: 'Page' object has no attribute 'get_Images'"
     ]
    }
   ],
   "source": [
    "# Open the file - I guess this is a one page at a time deal\n",
    "with fitz.open(filename) as my_pdf_file:\n",
    "    # loop through the pages\n",
    "    for page_number in range(1, len(my_pdf_file)+1):\n",
    "        # access the first page with a picture page 9\n",
    "         page = my_pdf_file[page_number-1]\n",
    "            # acess all of the images on the page (there's only one on this page)\n",
    "         images = page.get_Images()  #updated command whoops\n",
    "            # check if images are there\n",
    "    if images:\n",
    "            print(f\"There are {len(images)} image/s on page number {page_number}[+]\")\n",
    "    else:\n",
    "            print(f\"There are No image/s on page number {page_number}[!]\")\n",
    "            \n",
    "        # loop through the images on the page\n",
    "    for image_number, image in enumerate(page.getImageList(), start = 8):\n",
    "        \n",
    "        # access image xerf\n",
    "        xref_value = image[0]\n",
    "        \n",
    "        # extract image information\n",
    "        base_image = my_pdf_file.extractImage(xref_value)\n",
    "        \n",
    "        # access the image itself \n",
    "        image_bytes = base_image[\"image\"]\n",
    "        \n",
    "        # get the image extension\n",
    "        ext = base_image[\"ext\"]\n",
    "        \n",
    "        # load the image\n",
    "        image = Image.open(io.BytesIO(image_bytes))\n",
    "        \n",
    "        # save the image locally\n",
    "        image.save(open(f\"Page{page_number}Image{image_number}.{ext}\", \"wb\"))\n",
    "        \n"
   ]
  },
  {
   "cell_type": "code",
   "execution_count": null,
   "id": "d6eaa12f",
   "metadata": {},
   "outputs": [],
   "source": []
  }
 ],
 "metadata": {
  "kernelspec": {
   "display_name": "Python 3 (ipykernel)",
   "language": "python",
   "name": "python3"
  },
  "language_info": {
   "codemirror_mode": {
    "name": "ipython",
    "version": 3
   },
   "file_extension": ".py",
   "mimetype": "text/x-python",
   "name": "python",
   "nbconvert_exporter": "python",
   "pygments_lexer": "ipython3",
   "version": "3.9.12"
  }
 },
 "nbformat": 4,
 "nbformat_minor": 5
}
