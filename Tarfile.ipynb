{
 "cells": [
  {
   "cell_type": "markdown",
   "id": "94643861",
   "metadata": {},
   "source": [
    "### Let's look at the training data for SnakeClef"
   ]
  },
  {
   "cell_type": "code",
   "execution_count": 1,
   "id": "b11dd2f2",
   "metadata": {},
   "outputs": [
    {
     "name": "stdout",
     "output_type": "stream",
     "text": [
      "Collecting xtarfile[zstd]\n",
      "  Using cached xtarfile-0.1.0.tar.gz (3.4 kB)\n",
      "Collecting zstandard>=0.10.2\n",
      "  Downloading zstandard-0.20.0-cp39-cp39-win_amd64.whl (644 kB)\n",
      "Building wheels for collected packages: xtarfile\n",
      "  Building wheel for xtarfile (setup.py): started\n",
      "  Building wheel for xtarfile (setup.py): finished with status 'done'\n",
      "  Created wheel for xtarfile: filename=xtarfile-0.1.0-py3-none-any.whl size=3862 sha256=270b9f92efc0f2b5fa436d711adbae718f987bc94c4187122f82dd5a1510e1aa\n",
      "  Stored in directory: c:\\users\\olivi\\appdata\\local\\pip\\cache\\wheels\\b8\\ba\\9c\\3ddfaec7907652e779d63779944e76edf47b8b20cf7f06df64\n",
      "Successfully built xtarfile\n",
      "Installing collected packages: zstandard, xtarfile\n",
      "Successfully installed xtarfile-0.1.0 zstandard-0.20.0Note: you may need to restart the kernel to use updated packages.\n",
      "\n"
     ]
    }
   ],
   "source": [
    "#ip install xtarfile[zstd]"
   ]
  },
  {
   "cell_type": "code",
   "execution_count": 6,
   "id": "ef1fb695",
   "metadata": {},
   "outputs": [],
   "source": [
    "import tarfile\n",
    "import pandas as pd"
   ]
  },
  {
   "cell_type": "code",
   "execution_count": 7,
   "id": "9ba1a6f0",
   "metadata": {},
   "outputs": [],
   "source": [
    "df = tarfile.open('SnakeCLEF2023-train-large_size.tar.gz', mode = 'r')"
   ]
  },
  {
   "cell_type": "code",
   "execution_count": 8,
   "id": "9c3f81e8",
   "metadata": {},
   "outputs": [
    {
     "name": "stdout",
     "output_type": "stream",
     "text": [
      "<tarfile.TarFile object at 0x000001B04F12CCD0>\n"
     ]
    }
   ],
   "source": [
    "# Use pandas to look at what I am assuming is a large df\n",
    "print(df)"
   ]
  },
  {
   "cell_type": "code",
   "execution_count": null,
   "id": "af9b44d2",
   "metadata": {},
   "outputs": [],
   "source": []
  }
 ],
 "metadata": {
  "kernelspec": {
   "display_name": "Python 3 (ipykernel)",
   "language": "python",
   "name": "python3"
  },
  "language_info": {
   "codemirror_mode": {
    "name": "ipython",
    "version": 3
   },
   "file_extension": ".py",
   "mimetype": "text/x-python",
   "name": "python",
   "nbconvert_exporter": "python",
   "pygments_lexer": "ipython3",
   "version": "3.9.12"
  }
 },
 "nbformat": 4,
 "nbformat_minor": 5
}
