{
 "cells": [
  {
   "cell_type": "markdown",
   "id": "85b4c9c3",
   "metadata": {},
   "source": [
    "# Let's try to train the model, so that it knows these are images of snakes\n",
    "\n",
    "### The first step is to label the images of the snakes so we have something to teach the model with!\n",
    "#### Then we will test it out"
   ]
  },
  {
   "cell_type": "code",
   "execution_count": 8,
   "id": "f1755b8c",
   "metadata": {},
   "outputs": [
    {
     "name": "stdout",
     "output_type": "stream",
     "text": [
      "Requirement already satisfied: pyqt5 in c:\\users\\olivi\\anaconda3\\python\\lib\\site-packages (5.15.9)\n",
      "Requirement already satisfied: PyQt5-sip<13,>=12.11 in c:\\users\\olivi\\anaconda3\\python\\lib\\site-packages (from pyqt5) (12.12.0)\n",
      "Requirement already satisfied: PyQt5-Qt5>=5.15.2 in c:\\users\\olivi\\anaconda3\\python\\lib\\site-packages (from pyqt5) (5.15.2)\n",
      "Note: you may need to restart the kernel to use updated packages.\n"
     ]
    }
   ],
   "source": [
    "#pip install pyqt5"
   ]
  },
  {
   "cell_type": "code",
   "execution_count": 9,
   "id": "93314892",
   "metadata": {
    "scrolled": true
   },
   "outputs": [
    {
     "name": "stdout",
     "output_type": "stream",
     "text": [
      "Collecting labelme\n",
      "  Using cached labelme-5.3.0.tar.gz (1.5 MB)\n",
      "Collecting gdown\n",
      "  Using cached gdown-4.7.1-py3-none-any.whl (15 kB)\n",
      "Collecting imgviz>=0.11\n",
      "  Using cached imgviz-1.7.3.tar.gz (7.7 MB)\n",
      "  Installing build dependencies: started\n",
      "  Installing build dependencies: finished with status 'done'\n",
      "  Getting requirements to build wheel: started\n",
      "  Getting requirements to build wheel: finished with status 'done'\n",
      "    Preparing wheel metadata: started\n",
      "    Preparing wheel metadata: finished with status 'done'\n",
      "Requirement already satisfied: matplotlib in c:\\users\\olivi\\anaconda3\\python\\lib\\site-packages (from labelme) (3.5.1)\n",
      "Collecting natsort>=7.1.0\n",
      "  Using cached natsort-8.4.0-py3-none-any.whl (38 kB)\n",
      "Requirement already satisfied: numpy in c:\\users\\olivi\\anaconda3\\python\\lib\\site-packages (from labelme) (1.22.4)\n",
      "Collecting onnxruntime>=1.14.1\n",
      "  Downloading onnxruntime-1.15.1-cp39-cp39-win_amd64.whl (6.7 MB)\n",
      "Requirement already satisfied: Pillow>=2.8 in c:\\users\\olivi\\anaconda3\\python\\lib\\site-packages (from labelme) (9.4.0)\n",
      "Requirement already satisfied: PyYAML in c:\\users\\olivi\\anaconda3\\python\\lib\\site-packages (from labelme) (6.0)\n",
      "Requirement already satisfied: qtpy!=1.11.2 in c:\\users\\olivi\\anaconda3\\python\\lib\\site-packages (from labelme) (2.0.1)\n",
      "Requirement already satisfied: scikit-image in c:\\users\\olivi\\anaconda3\\python\\lib\\site-packages (from labelme) (0.19.2)\n",
      "Requirement already satisfied: termcolor in c:\\users\\olivi\\anaconda3\\python\\lib\\site-packages (from labelme) (2.2.0)\n",
      "Requirement already satisfied: colorama in c:\\users\\olivi\\anaconda3\\python\\lib\\site-packages (from labelme) (0.4.4)\n",
      "Requirement already satisfied: packaging in c:\\users\\olivi\\anaconda3\\python\\lib\\site-packages (from onnxruntime>=1.14.1->labelme) (21.3)\n",
      "Collecting coloredlogs\n",
      "  Using cached coloredlogs-15.0.1-py2.py3-none-any.whl (46 kB)\n",
      "Requirement already satisfied: protobuf in c:\\users\\olivi\\anaconda3\\python\\lib\\site-packages (from onnxruntime>=1.14.1->labelme) (4.22.3)\n",
      "Requirement already satisfied: flatbuffers in c:\\users\\olivi\\anaconda3\\python\\lib\\site-packages (from onnxruntime>=1.14.1->labelme) (23.3.3)\n",
      "Requirement already satisfied: sympy in c:\\users\\olivi\\anaconda3\\python\\lib\\site-packages (from onnxruntime>=1.14.1->labelme) (1.10.1)\n",
      "Collecting humanfriendly>=9.1\n",
      "  Using cached humanfriendly-10.0-py2.py3-none-any.whl (86 kB)\n",
      "Collecting pyreadline3\n",
      "  Using cached pyreadline3-3.4.1-py3-none-any.whl (95 kB)\n",
      "Requirement already satisfied: tqdm in c:\\users\\olivi\\anaconda3\\python\\lib\\site-packages (from gdown->labelme) (4.64.0)\n",
      "Requirement already satisfied: beautifulsoup4 in c:\\users\\olivi\\anaconda3\\python\\lib\\site-packages (from gdown->labelme) (4.11.1)\n",
      "Requirement already satisfied: requests[socks] in c:\\users\\olivi\\anaconda3\\python\\lib\\site-packages (from gdown->labelme) (2.27.1)\n",
      "Note: you may need to restart the kernel to use updated packages.Requirement already satisfied: filelock in c:\\users\\olivi\\anaconda3\\python\\lib\\site-packages (from gdown->labelme) (3.6.0)\n",
      "Requirement already satisfied: six in c:\\users\\olivi\\anaconda3\\python\\lib\\site-packages (from gdown->labelme) (1.16.0)\n",
      "Requirement already satisfied: soupsieve>1.2 in c:\\users\\olivi\\anaconda3\\python\\lib\\site-packages (from beautifulsoup4->gdown->labelme) (2.3.1)\n",
      "Requirement already satisfied: python-dateutil>=2.7 in c:\\users\\olivi\\anaconda3\\python\\lib\\site-packages (from matplotlib->labelme) (2.8.2)\n",
      "Requirement already satisfied: pyparsing>=2.2.1 in c:\\users\\olivi\\anaconda3\\python\\lib\\site-packages (from matplotlib->labelme) (3.0.4)\n",
      "Requirement already satisfied: fonttools>=4.22.0 in c:\\users\\olivi\\anaconda3\\python\\lib\\site-packages (from matplotlib->labelme) (4.25.0)\n",
      "Requirement already satisfied: cycler>=0.10 in c:\\users\\olivi\\anaconda3\\python\\lib\\site-packages (from matplotlib->labelme) (0.11.0)\n",
      "Requirement already satisfied: kiwisolver>=1.0.1 in c:\\users\\olivi\\anaconda3\\python\\lib\\site-packages (from matplotlib->labelme) (1.3.2)\n",
      "Requirement already satisfied: charset-normalizer~=2.0.0 in c:\\users\\olivi\\anaconda3\\python\\lib\\site-packages (from requests[socks]->gdown->labelme) (2.0.4)\n",
      "Requirement already satisfied: urllib3<1.27,>=1.21.1 in c:\\users\\olivi\\anaconda3\\python\\lib\\site-packages (from requests[socks]->gdown->labelme) (1.26.9)\n",
      "Requirement already satisfied: idna<4,>=2.5 in c:\\users\\olivi\\anaconda3\\python\\lib\\site-packages (from requests[socks]->gdown->labelme) (3.3)\n",
      "Requirement already satisfied: certifi>=2017.4.17 in c:\\users\\olivi\\anaconda3\\python\\lib\\site-packages (from requests[socks]->gdown->labelme) (2021.10.8)\n",
      "Requirement already satisfied: PySocks!=1.5.7,>=1.5.6 in c:\\users\\olivi\\anaconda3\\python\\lib\\site-packages (from requests[socks]->gdown->labelme) (1.7.1)\n",
      "Requirement already satisfied: scipy>=1.4.1 in c:\\users\\olivi\\anaconda3\\python\\lib\\site-packages (from scikit-image->labelme) (1.7.3)\n",
      "Requirement already satisfied: networkx>=2.2 in c:\\users\\olivi\\anaconda3\\python\\lib\\site-packages (from scikit-image->labelme) (2.7.1)\n",
      "Requirement already satisfied: tifffile>=2019.7.26 in c:\\users\\olivi\\anaconda3\\python\\lib\\site-packages (from scikit-image->labelme) (2021.7.2)\n",
      "Requirement already satisfied: PyWavelets>=1.1.1 in c:\\users\\olivi\\anaconda3\\python\\lib\\site-packages (from scikit-image->labelme) (1.3.0)\n",
      "\n",
      "Requirement already satisfied: imageio>=2.4.1 in c:\\users\\olivi\\anaconda3\\python\\lib\\site-packages (from scikit-image->labelme) (2.9.0)\n",
      "Requirement already satisfied: mpmath>=0.19 in c:\\users\\olivi\\anaconda3\\python\\lib\\site-packages (from sympy->onnxruntime>=1.14.1->labelme) (1.2.1)\n",
      "Building wheels for collected packages: labelme, imgviz\n",
      "  Building wheel for labelme (setup.py): started\n",
      "  Building wheel for labelme (setup.py): finished with status 'done'\n",
      "  Created wheel for labelme: filename=labelme-5.3.0-py3-none-any.whl size=1472069 sha256=62fe465fda469c5fda8d823ad9ec0ec3b759f38ab5a9dd58d80ff417520f55a3\n",
      "  Stored in directory: c:\\users\\olivi\\appdata\\local\\pip\\cache\\wheels\\69\\d2\\04\\3e91a69abcc9d8504e4ad8c45638a429a02bf0af01172d5464\n",
      "  Building wheel for imgviz (PEP 517): started\n",
      "  Building wheel for imgviz (PEP 517): finished with status 'done'\n",
      "  Created wheel for imgviz: filename=imgviz-1.7.3-py3-none-any.whl size=7680028 sha256=6b01c0a1284b1c19ee75ade00f71e3bea7be7232a913221495c01e4c58a4c038\n",
      "  Stored in directory: c:\\users\\olivi\\appdata\\local\\pip\\cache\\wheels\\2c\\13\\ee\\797e08de20d4aa48bb6a05a3eca55d21e2a7dab34c5cdd2839\n",
      "Successfully built labelme imgviz\n",
      "Installing collected packages: pyreadline3, humanfriendly, coloredlogs, onnxruntime, natsort, imgviz, gdown, labelme\n",
      "Successfully installed coloredlogs-15.0.1 gdown-4.7.1 humanfriendly-10.0 imgviz-1.7.3 labelme-5.3.0 natsort-8.4.0 onnxruntime-1.15.1 pyreadline3-3.4.1\n"
     ]
    }
   ],
   "source": [
    "#pip install labelme"
   ]
  },
  {
   "cell_type": "code",
   "execution_count": 1,
   "id": "1f670673",
   "metadata": {},
   "outputs": [],
   "source": [
    "import pixellib"
   ]
  },
  {
   "cell_type": "code",
   "execution_count": 2,
   "id": "874969b2",
   "metadata": {},
   "outputs": [],
   "source": [
    "from pixellib.custom_train import instance_custom_training_custom_training"
   ]
  },
  {
   "cell_type": "code",
   "execution_count": 4,
   "id": "7adbbd12",
   "metadata": {},
   "outputs": [
    {
     "name": "stdout",
     "output_type": "stream",
     "text": [
      "There are 0 listed files in folder train.\n"
     ]
    },
    {
     "name": "stderr",
     "output_type": "stream",
     "text": [
      "Converting labelme annotations to COCO format: 0it [00:00, ?it/s]\n",
      "08/18/2023 14:05:26 - INFO - labelme2coco -   Converted annotations in COCO format is exported to C:\\Users\\olivi\\OneDrive\\Desktop\\SpringResearch_23\\OneDrive\\Desktop\\SpringResearch_23\\Training_Images\\train.json\\dataset.json\n"
     ]
    },
    {
     "ename": "PermissionError",
     "evalue": "[Errno 13] Permission denied: 'C:\\\\Users\\\\olivi\\\\OneDrive\\\\Desktop\\\\SpringResearch_23\\\\OneDrive\\\\Desktop\\\\SpringResearch_23\\\\Training_Images\\\\train.json'",
     "output_type": "error",
     "traceback": [
      "\u001b[1;31m---------------------------------------------------------------------------\u001b[0m",
      "\u001b[1;31mPermissionError\u001b[0m                           Traceback (most recent call last)",
      "Input \u001b[1;32mIn [4]\u001b[0m, in \u001b[0;36m<cell line: 2>\u001b[1;34m()\u001b[0m\n\u001b[0;32m      1\u001b[0m vis_img \u001b[38;5;241m=\u001b[39m instance_custom_training()\n\u001b[1;32m----> 2\u001b[0m \u001b[43mvis_img\u001b[49m\u001b[38;5;241;43m.\u001b[39;49m\u001b[43mload_dataset\u001b[49m\u001b[43m(\u001b[49m\u001b[38;5;124;43m'\u001b[39;49m\u001b[38;5;124;43mOneDrive\u001b[39;49m\u001b[38;5;124;43m\\\u001b[39;49m\u001b[38;5;124;43mDesktop\u001b[39;49m\u001b[38;5;124;43m\\\u001b[39;49m\u001b[38;5;124;43mSpringResearch_23\u001b[39;49m\u001b[38;5;124;43m\\\u001b[39;49m\u001b[38;5;124;43mTraining_Images\u001b[39;49m\u001b[38;5;124;43m'\u001b[39;49m\u001b[43m)\u001b[49m\n",
      "File \u001b[1;32m~\\anaconda3\\Python\\lib\\site-packages\\pixellib\\custom_train\\__init__.py:68\u001b[0m, in \u001b[0;36minstance_custom_training.load_dataset\u001b[1;34m(self, dataset)\u001b[0m\n\u001b[0;32m     66\u001b[0m \u001b[38;5;66;03m# Training dataset.\u001b[39;00m\n\u001b[0;32m     67\u001b[0m \u001b[38;5;28mself\u001b[39m\u001b[38;5;241m.\u001b[39mdataset_train \u001b[38;5;241m=\u001b[39m Data()\n\u001b[1;32m---> 68\u001b[0m \u001b[38;5;28;43mself\u001b[39;49m\u001b[38;5;241;43m.\u001b[39;49m\u001b[43mdataset_train\u001b[49m\u001b[38;5;241;43m.\u001b[39;49m\u001b[43mload_data\u001b[49m\u001b[43m(\u001b[49m\u001b[43msave_json_path1\u001b[49m\u001b[43m,\u001b[49m\u001b[43m \u001b[49m\u001b[43mlabelme_folder1\u001b[49m\u001b[43m)\u001b[49m\n\u001b[0;32m     69\u001b[0m \u001b[38;5;28mself\u001b[39m\u001b[38;5;241m.\u001b[39mdataset_train\u001b[38;5;241m.\u001b[39mprepare()\n\u001b[0;32m     72\u001b[0m labelme_folder2 \u001b[38;5;241m=\u001b[39m os\u001b[38;5;241m.\u001b[39mpath\u001b[38;5;241m.\u001b[39mabspath(os\u001b[38;5;241m.\u001b[39mpath\u001b[38;5;241m.\u001b[39mjoin(dataset, \u001b[38;5;124m\"\u001b[39m\u001b[38;5;124mtest\u001b[39m\u001b[38;5;124m\"\u001b[39m))\n",
      "File \u001b[1;32m~\\anaconda3\\Python\\lib\\site-packages\\pixellib\\custom_train\\__init__.py:175\u001b[0m, in \u001b[0;36mData.load_data\u001b[1;34m(self, annotation_json, images_path)\u001b[0m\n\u001b[0;32m    172\u001b[0m \u001b[38;5;28;01mdef\u001b[39;00m \u001b[38;5;21mload_data\u001b[39m(\u001b[38;5;28mself\u001b[39m,  annotation_json, images_path):\n\u001b[0;32m    173\u001b[0m    \n\u001b[0;32m    174\u001b[0m     \u001b[38;5;66;03m# Load json from file\u001b[39;00m\n\u001b[1;32m--> 175\u001b[0m     json_file \u001b[38;5;241m=\u001b[39m \u001b[38;5;28;43mopen\u001b[39;49m\u001b[43m(\u001b[49m\u001b[43mannotation_json\u001b[49m\u001b[43m)\u001b[49m\n\u001b[0;32m    176\u001b[0m     coco_json \u001b[38;5;241m=\u001b[39m json\u001b[38;5;241m.\u001b[39mload(json_file)\n\u001b[0;32m    177\u001b[0m     json_file\u001b[38;5;241m.\u001b[39mclose()\n",
      "\u001b[1;31mPermissionError\u001b[0m: [Errno 13] Permission denied: 'C:\\\\Users\\\\olivi\\\\OneDrive\\\\Desktop\\\\SpringResearch_23\\\\OneDrive\\\\Desktop\\\\SpringResearch_23\\\\Training_Images\\\\train.json'"
     ]
    }
   ],
   "source": [
    "vis_img = instance_custom_training()\n",
    "vis_img.load_dataset('OneDrive\\Desktop\\SpringResearch_23\\Training_Images')"
   ]
  },
  {
   "cell_type": "code",
   "execution_count": null,
   "id": "7c3f73f3",
   "metadata": {},
   "outputs": [],
   "source": []
  }
 ],
 "metadata": {
  "kernelspec": {
   "display_name": "Python 3 (ipykernel)",
   "language": "python",
   "name": "python3"
  },
  "language_info": {
   "codemirror_mode": {
    "name": "ipython",
    "version": 3
   },
   "file_extension": ".py",
   "mimetype": "text/x-python",
   "name": "python",
   "nbconvert_exporter": "python",
   "pygments_lexer": "ipython3",
   "version": "3.9.12"
  }
 },
 "nbformat": 4,
 "nbformat_minor": 5
}
