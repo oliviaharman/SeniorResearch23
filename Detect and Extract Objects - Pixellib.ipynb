{
 "cells": [
  {
   "cell_type": "markdown",
   "id": "73ba4e82",
   "metadata": {},
   "source": [
    "#### Found a tutorial on youtube to follow - let's see if it works!"
   ]
  },
  {
   "cell_type": "code",
   "execution_count": 1,
   "id": "975722a4",
   "metadata": {},
   "outputs": [],
   "source": [
    "import pixellib"
   ]
  },
  {
   "cell_type": "code",
   "execution_count": 2,
   "id": "f51c5ea1",
   "metadata": {},
   "outputs": [],
   "source": [
    "from pixellib.instance import instance_segmentation"
   ]
  },
  {
   "cell_type": "code",
   "execution_count": 3,
   "id": "801281ac",
   "metadata": {},
   "outputs": [],
   "source": [
    "import cv2"
   ]
  },
  {
   "cell_type": "code",
   "execution_count": 4,
   "id": "4a7588f3",
   "metadata": {},
   "outputs": [],
   "source": [
    "segmentation_model = instance_segmentation()"
   ]
  },
  {
   "cell_type": "code",
   "execution_count": 8,
   "id": "8e8b2117",
   "metadata": {},
   "outputs": [],
   "source": [
    "segmentation_model.load_model('mask_rcnn_coco.h5')"
   ]
  },
  {
   "cell_type": "code",
   "execution_count": 11,
   "id": "6ec9379f",
   "metadata": {},
   "outputs": [
    {
     "ename": "error",
     "evalue": "OpenCV(4.7.0) D:\\a\\opencv-python\\opencv-python\\opencv\\modules\\imgproc\\src\\color.cpp:182: error: (-215:Assertion failed) !_src.empty() in function 'cv::cvtColor'\n",
     "output_type": "error",
     "traceback": [
      "\u001b[1;31m---------------------------------------------------------------------------\u001b[0m",
      "\u001b[1;31merror\u001b[0m                                     Traceback (most recent call last)",
      "Input \u001b[1;32mIn [11]\u001b[0m, in \u001b[0;36m<cell line: 2>\u001b[1;34m()\u001b[0m\n\u001b[0;32m      1\u001b[0m \u001b[38;5;66;03m# Use the model to detect the images of the snakes first then we will extract later :)\u001b[39;00m\n\u001b[1;32m----> 2\u001b[0m segmask, output \u001b[38;5;241m=\u001b[39m \u001b[43msegmentation_model\u001b[49m\u001b[38;5;241;43m.\u001b[39;49m\u001b[43msegmentImage\u001b[49m\u001b[43m(\u001b[49m\u001b[38;5;124;43m'\u001b[39;49m\u001b[38;5;124;43mDesktop/SpringResearch_23/image18_1\u001b[39;49m\u001b[38;5;124;43m'\u001b[39;49m\u001b[43m,\u001b[49m\u001b[43m \u001b[49m\u001b[43mextract_segmented_objects\u001b[49m\u001b[43m \u001b[49m\u001b[38;5;241;43m=\u001b[39;49m\u001b[43m \u001b[49m\u001b[38;5;28;43;01mTrue\u001b[39;49;00m\u001b[43m,\u001b[49m\u001b[43m \u001b[49m\u001b[43msave_extracted_objects\u001b[49m\u001b[43m \u001b[49m\u001b[38;5;241;43m=\u001b[39;49m\u001b[43m \u001b[49m\u001b[38;5;28;43;01mTrue\u001b[39;49;00m\u001b[43m,\u001b[49m\u001b[43m \u001b[49m\u001b[43mshow_bboxes\u001b[49m\u001b[43m \u001b[49m\u001b[38;5;241;43m=\u001b[39;49m\u001b[43m \u001b[49m\u001b[38;5;28;43;01mTrue\u001b[39;49;00m\u001b[43m,\u001b[49m\u001b[43m \u001b[49m\u001b[43moutput_image_name\u001b[49m\u001b[43m \u001b[49m\u001b[38;5;241;43m=\u001b[39;49m\u001b[43m \u001b[49m\u001b[38;5;124;43m'\u001b[39;49m\u001b[38;5;124;43mTest_Num_1.jpeg\u001b[39;49m\u001b[38;5;124;43m'\u001b[39;49m\u001b[43m)\u001b[49m\n\u001b[0;32m      4\u001b[0m cv2\u001b[38;5;241m.\u001b[39mimshow(\u001b[38;5;124m'\u001b[39m\u001b[38;5;124mimg\u001b[39m\u001b[38;5;124m'\u001b[39m, output)\n\u001b[0;32m      5\u001b[0m cv2\u001b[38;5;241m.\u001b[39mwaitKey(\u001b[38;5;241m0\u001b[39m)\n",
      "File \u001b[1;32m~\\anaconda3\\Python\\lib\\site-packages\\pixellib\\instance\\__init__.py:191\u001b[0m, in \u001b[0;36minstance_segmentation.segmentImage\u001b[1;34m(self, image_path, show_bboxes, segment_target_classes, extract_segmented_objects, save_extracted_objects, mask_points_values, output_image_name, text_thickness, text_size, box_thickness, verbose)\u001b[0m\n\u001b[0;32m    186\u001b[0m \u001b[38;5;28;01mdef\u001b[39;00m \u001b[38;5;21msegmentImage\u001b[39m(\u001b[38;5;28mself\u001b[39m, image_path, show_bboxes \u001b[38;5;241m=\u001b[39m \u001b[38;5;28;01mFalse\u001b[39;00m,  segment_target_classes \u001b[38;5;241m=\u001b[39m \u001b[38;5;28;01mNone\u001b[39;00m, extract_segmented_objects \u001b[38;5;241m=\u001b[39m \u001b[38;5;28;01mFalse\u001b[39;00m, \n\u001b[0;32m    187\u001b[0m save_extracted_objects \u001b[38;5;241m=\u001b[39m \u001b[38;5;28;01mFalse\u001b[39;00m,mask_points_values \u001b[38;5;241m=\u001b[39m \u001b[38;5;28;01mFalse\u001b[39;00m,  output_image_name \u001b[38;5;241m=\u001b[39m \u001b[38;5;28;01mNone\u001b[39;00m,  text_thickness \u001b[38;5;241m=\u001b[39m \u001b[38;5;241m0\u001b[39m,\n\u001b[0;32m    188\u001b[0m text_size \u001b[38;5;241m=\u001b[39m \u001b[38;5;241m0.6\u001b[39m, box_thickness \u001b[38;5;241m=\u001b[39m \u001b[38;5;241m2\u001b[39m, verbose \u001b[38;5;241m=\u001b[39m \u001b[38;5;28;01mNone\u001b[39;00m):\n\u001b[0;32m    189\u001b[0m     image \u001b[38;5;241m=\u001b[39m cv2\u001b[38;5;241m.\u001b[39mimread(image_path)\n\u001b[1;32m--> 191\u001b[0m     new_img \u001b[38;5;241m=\u001b[39m \u001b[43mcv2\u001b[49m\u001b[38;5;241;43m.\u001b[39;49m\u001b[43mcvtColor\u001b[49m\u001b[43m(\u001b[49m\u001b[43mimage\u001b[49m\u001b[43m,\u001b[49m\u001b[43m \u001b[49m\u001b[43mcv2\u001b[49m\u001b[38;5;241;43m.\u001b[39;49m\u001b[43mCOLOR_RGB2BGR\u001b[49m\u001b[43m)\u001b[49m\n\u001b[0;32m    192\u001b[0m     \u001b[38;5;66;03m# Run detection\u001b[39;00m\n\u001b[0;32m    193\u001b[0m     \u001b[38;5;28;01mif\u001b[39;00m verbose \u001b[38;5;129;01mis\u001b[39;00m \u001b[38;5;129;01mnot\u001b[39;00m \u001b[38;5;28;01mNone\u001b[39;00m:\n",
      "\u001b[1;31merror\u001b[0m: OpenCV(4.7.0) D:\\a\\opencv-python\\opencv-python\\opencv\\modules\\imgproc\\src\\color.cpp:182: error: (-215:Assertion failed) !_src.empty() in function 'cv::cvtColor'\n"
     ]
    }
   ],
   "source": [
    "# FIX THIS ERROR - SOMETHING IS WRONG WITH THE PATH\n",
    "# Use the model to detect the images of the snakes first then we will extract later :)\n",
    "segmask, output = segmentation_model.segmentImage('Desktop/SpringResearch_23/image18_1', extract_segmented_objects = True, save_extracted_objects = True, show_bboxes = True, output_image_name = 'Test_Num_1.jpeg')\n",
    "\n",
    "cv2.imshow('img', output)\n",
    "cv2.waitKey(0)\n",
    "cv2.destroyAllWindows()"
   ]
  },
  {
   "cell_type": "code",
   "execution_count": null,
   "id": "f3091311",
   "metadata": {},
   "outputs": [],
   "source": []
  }
 ],
 "metadata": {
  "kernelspec": {
   "display_name": "Python 3 (ipykernel)",
   "language": "python",
   "name": "python3"
  },
  "language_info": {
   "codemirror_mode": {
    "name": "ipython",
    "version": 3
   },
   "file_extension": ".py",
   "mimetype": "text/x-python",
   "name": "python",
   "nbconvert_exporter": "python",
   "pygments_lexer": "ipython3",
   "version": "3.9.12"
  }
 },
 "nbformat": 4,
 "nbformat_minor": 5
}
