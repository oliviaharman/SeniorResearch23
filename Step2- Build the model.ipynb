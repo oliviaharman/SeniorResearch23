{
 "cells": [
  {
   "cell_type": "markdown",
   "id": "c33eae37",
   "metadata": {},
   "source": [
    "# Buid the model"
   ]
  },
  {
   "cell_type": "code",
   "execution_count": 1,
   "id": "1dc192c6",
   "metadata": {},
   "outputs": [],
   "source": [
    "from matplotlib.pyplot import cla\n",
    "import numpy as np\n",
    "import matplotlib.pyplot as plt\n",
    "from keras.layers import Dense, Conv2D, Flatten, MaxPooling2D, Dropout, BatchNormalization, MaxPool2D, GlobalAveragePooling2D\n",
    "from keras.models import Sequential\n",
    "from keras.preprocessing import image\n",
    "import keras"
   ]
  },
  {
   "cell_type": "code",
   "execution_count": null,
   "id": "d11c40b7",
   "metadata": {},
   "outputs": [],
   "source": [
    "TRAIN_DIR =  \"C:\\Build\\SnakeImages\\\\train\"\n",
    "VALIDATE_DIR =  \"C:\\Build\\SnakeImages\\\\validate\""
   ]
  },
  {
   "cell_type": "code",
   "execution_count": null,
   "id": "c4ef4ebc",
   "metadata": {},
   "outputs": [],
   "source": [
    "# build the CNN model\n",
    "model = Sequential()\n",
    "model.add(Conv2D(filters=32, kernel_size=(3,3), activation='relu', input_shape = (224,224,3)    ))\n",
    "\n",
    "model.add(Conv2D(filters=64, kernel_size=(3,3),  activation='relu' ))\n",
    "model.add(MaxPool2D(pool_size=(2,2)))\n",
    "\n",
    "model.add(Conv2D(filters=128, kernel_size=(3,3),  activation='relu' ))\n",
    "model.add(MaxPool2D(pool_size=(2,2)))\n",
    "\n",
    "model.add(Conv2D(filters=256, kernel_size=(3,3),  activation='relu' ))\n",
    "model.add(MaxPool2D(pool_size=(2,2)))\n",
    "\n",
    "model.add(Dropout(rate=0.25))\n",
    "\n",
    "model.add(Flatten())\n",
    "\n",
    "model.add(Dense(units=64, activation='relu'))\n",
    "model.add(Dropout(rate=0.25))\n",
    "\n",
    "#final layer:\n",
    "model.add(Dense(units=1, activation='sigmoid'))\n",
    "\n",
    "model.compile(loss=keras.losses.binary_crossentropy, optimizer='adam', metrics=['accuracy'])\n",
    "\n",
    "print(model.summary())"
   ]
  },
  {
   "cell_type": "code",
   "execution_count": null,
   "id": "23d23fd2",
   "metadata": {},
   "outputs": [],
   "source": [
    "# create the train data augmentation object\n",
    "# ==========================================\n",
    "\n",
    "train_datagen = image.ImageDataGenerator(\n",
    "    zoom_range=0.2 , shear_range=0.2, rescale=1. / 255 , horizontal_flip=True\n",
    ")\n",
    "\n",
    "val_datagen = image.ImageDataGenerator( rescale= 1. / 255)\n",
    "\n",
    "train_data = train_datagen.flow_from_directory(directory=TRAIN_DIR , target_size=(224,224) , batch_size=32 , class_mode='binary')\n",
    "val_data = val_datagen.flow_from_directory(directory=VAL_DIR, target_size=(224,224), batch_size=32, class_mode='binary')"
   ]
  },
  {
   "cell_type": "code",
   "execution_count": null,
   "id": "8f042f64",
   "metadata": {},
   "outputs": [],
   "source": [
    "# create model check point for the performence of the model\n",
    "\n",
    "from keras.callbacks import ModelCheckpoint , EarlyStopping"
   ]
  },
  {
   "cell_type": "code",
   "execution_count": null,
   "id": "12a52526",
   "metadata": {},
   "outputs": [],
   "source": [
    "# lets stop the training if the accuracy is good\n",
    "\n",
    "es = EarlyStopping(monitor='val_accuracy', min_delta=0.01 , patience=5 , verbose=1 , mode='auto')\n",
    "mc = ModelCheckpoint(filepath='C:/Python-cannot-upload-to-GitHub/BrainTumor/MyBestModel.h5', monitor='val_accuracy' ,  verbose=1 , mode='auto' , save_best_only=True)\n",
    "\n",
    "\n",
    "call_back = [es, mc]\n",
    "\n",
    "hist = model.fit(x=train_data, epochs=30 , verbose=1, validation_data=val_data, callbacks=call_back)\n",
    "\n",
    "h = hist.history\n",
    "print('Keys : ', h.keys() )"
   ]
  },
  {
   "cell_type": "code",
   "execution_count": null,
   "id": "d08cd2d5",
   "metadata": {},
   "outputs": [],
   "source": [
    "#accuracy \n",
    "plt.plot(h['accuracy'])\n",
    "plt.plot(h['val_accuracy'], c='red')\n",
    "plt.title('Accuracy vs. Val Accuracy')\n",
    "plt.show()\n",
    "\n",
    "#loss\n",
    "plt.plot(h['loss'])\n",
    "plt.plot(h['val_loss'], c='red')\n",
    "plt.title('loss vs. Val loss')\n",
    "plt.show()"
   ]
  }
 ],
 "metadata": {
  "kernelspec": {
   "display_name": "Python 3 (ipykernel)",
   "language": "python",
   "name": "python3"
  },
  "language_info": {
   "codemirror_mode": {
    "name": "ipython",
    "version": 3
   },
   "file_extension": ".py",
   "mimetype": "text/x-python",
   "name": "python",
   "nbconvert_exporter": "python",
   "pygments_lexer": "ipython3",
   "version": "3.11.5"
  }
 },
 "nbformat": 4,
 "nbformat_minor": 5
}
