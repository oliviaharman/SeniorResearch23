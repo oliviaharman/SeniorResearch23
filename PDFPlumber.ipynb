{
 "cells": [
  {
   "cell_type": "markdown",
   "id": "09cacfc0",
   "metadata": {},
   "source": [
    "### Using PDFPlumber to extract the images using the black borders around the image\n",
    "##### With this method you must already know the pages that contain images and their relative location."
   ]
  },
  {
   "cell_type": "code",
   "execution_count": 1,
   "id": "c8f65c29",
   "metadata": {},
   "outputs": [
    {
     "name": "stdout",
     "output_type": "stream",
     "text": [
      "Collecting pdfplumber\n",
      "  Using cached pdfplumber-0.8.0-py3-none-any.whl (43 kB)\n",
      "Collecting Wand>=0.6.10\n",
      "  Using cached Wand-0.6.11-py2.py3-none-any.whl (143 kB)\n",
      "Requirement already satisfied: pdfminer.six==20221105 in c:\\users\\olivi\\anaconda3\\python\\lib\\site-packages (from pdfplumber) (20221105)\n",
      "Collecting Pillow>=9.1\n",
      "  Downloading Pillow-9.4.0-cp39-cp39-win_amd64.whl (2.5 MB)\n",
      "Requirement already satisfied: charset-normalizer>=2.0.0 in c:\\users\\olivi\\anaconda3\\python\\lib\\site-packages (from pdfminer.six==20221105->pdfplumber) (2.0.4)\n",
      "Requirement already satisfied: cryptography>=36.0.0 in c:\\users\\olivi\\anaconda3\\python\\lib\\site-packages (from pdfminer.six==20221105->pdfplumber) (39.0.1)\n",
      "Requirement already satisfied: cffi>=1.12 in c:\\users\\olivi\\anaconda3\\python\\lib\\site-packages (from cryptography>=36.0.0->pdfminer.six==20221105->pdfplumber) (1.15.0)\n",
      "Requirement already satisfied: pycparser in c:\\users\\olivi\\anaconda3\\python\\lib\\site-packages (from cffi>=1.12->cryptography>=36.0.0->pdfminer.six==20221105->pdfplumber) (2.21)\n",
      "Installing collected packages: Wand, Pillow, pdfplumber\n",
      "  Attempting uninstall: Pillow\n",
      "    Found existing installation: Pillow 9.0.1\n",
      "    Uninstalling Pillow-9.0.1:\n",
      "      Successfully uninstalled Pillow-9.0.1\n",
      "Successfully installed Pillow-9.4.0 Wand-0.6.11 pdfplumber-0.8.0\n",
      "Note: you may need to restart the kernel to use updated packages.\n"
     ]
    }
   ],
   "source": [
    "#pip install pdfplumber"
   ]
  },
  {
   "cell_type": "code",
   "execution_count": 2,
   "id": "90f14888",
   "metadata": {},
   "outputs": [
    {
     "name": "stdout",
     "output_type": "stream",
     "text": [
      "Requirement already satisfied: numpy in c:\\users\\olivi\\anaconda3\\python\\lib\\site-packages (1.21.5)\n",
      "Note: you may need to restart the kernel to use updated packages.\n"
     ]
    }
   ],
   "source": [
    "#pip install numpy"
   ]
  },
  {
   "cell_type": "code",
   "execution_count": 6,
   "id": "1fdf16b9",
   "metadata": {},
   "outputs": [
    {
     "name": "stdout",
     "output_type": "stream",
     "text": [
      "Requirement already satisfied: pandas in c:\\users\\olivi\\anaconda3\\python\\lib\\site-packages (1.4.2)\n",
      "Requirement already satisfied: pytz>=2020.1 in c:\\users\\olivi\\anaconda3\\python\\lib\\site-packages (from pandas) (2021.3)\n",
      "Requirement already satisfied: numpy>=1.18.5 in c:\\users\\olivi\\anaconda3\\python\\lib\\site-packages (from pandas) (1.21.5)\n",
      "Requirement already satisfied: python-dateutil>=2.8.1 in c:\\users\\olivi\\anaconda3\\python\\lib\\site-packages (from pandas) (2.8.2)\n",
      "Requirement already satisfied: six>=1.5 in c:\\users\\olivi\\anaconda3\\python\\lib\\site-packages (from python-dateutil>=2.8.1->pandas) (1.16.0)\n",
      "Note: you may need to restart the kernel to use updated packages.\n"
     ]
    }
   ],
   "source": [
    "#pip install pandas"
   ]
  },
  {
   "cell_type": "code",
   "execution_count": 1,
   "id": "1f387e6e",
   "metadata": {},
   "outputs": [],
   "source": [
    "import numpy as np\n",
    "import fitz\n",
    "import pdfplumber"
   ]
  },
  {
   "cell_type": "code",
   "execution_count": 2,
   "id": "d8da1f24",
   "metadata": {},
   "outputs": [
    {
     "name": "stdout",
     "output_type": "stream",
     "text": [
      "108\n"
     ]
    }
   ],
   "source": [
    "file = \"Largen & Spawls 2010 part VI snakes.pdf\"\n",
    "pdf_file1 = fitz.open(file)\n",
    "print(pdf_file1.page_count)"
   ]
  },
  {
   "cell_type": "code",
   "execution_count": 3,
   "id": "9f697028",
   "metadata": {},
   "outputs": [
    {
     "name": "stdout",
     "output_type": "stream",
     "text": [
      "page 0 of Largen & Spawls 2010 part VI snakes.pdf\n",
      "page 1 of Largen & Spawls 2010 part VI snakes.pdf\n",
      "page 2 of Largen & Spawls 2010 part VI snakes.pdf\n",
      "page 3 of Largen & Spawls 2010 part VI snakes.pdf\n",
      "page 4 of Largen & Spawls 2010 part VI snakes.pdf\n",
      "page 5 of Largen & Spawls 2010 part VI snakes.pdf\n",
      "page 6 of Largen & Spawls 2010 part VI snakes.pdf\n",
      "page 7 of Largen & Spawls 2010 part VI snakes.pdf\n",
      "page 8 of Largen & Spawls 2010 part VI snakes.pdf\n",
      "page 9 of Largen & Spawls 2010 part VI snakes.pdf\n",
      "page 10 of Largen & Spawls 2010 part VI snakes.pdf\n",
      "page 11 of Largen & Spawls 2010 part VI snakes.pdf\n",
      "page 12 of Largen & Spawls 2010 part VI snakes.pdf\n",
      "page 13 of Largen & Spawls 2010 part VI snakes.pdf\n",
      "page 14 of Largen & Spawls 2010 part VI snakes.pdf\n",
      "page 15 of Largen & Spawls 2010 part VI snakes.pdf\n",
      "page 16 of Largen & Spawls 2010 part VI snakes.pdf\n",
      "page 17 of Largen & Spawls 2010 part VI snakes.pdf\n",
      "page 18 of Largen & Spawls 2010 part VI snakes.pdf\n",
      "page 19 of Largen & Spawls 2010 part VI snakes.pdf\n",
      "page 20 of Largen & Spawls 2010 part VI snakes.pdf\n",
      "page 21 of Largen & Spawls 2010 part VI snakes.pdf\n",
      "page 22 of Largen & Spawls 2010 part VI snakes.pdf\n",
      "page 23 of Largen & Spawls 2010 part VI snakes.pdf\n",
      "page 24 of Largen & Spawls 2010 part VI snakes.pdf\n",
      "page 25 of Largen & Spawls 2010 part VI snakes.pdf\n",
      "page 26 of Largen & Spawls 2010 part VI snakes.pdf\n",
      "page 27 of Largen & Spawls 2010 part VI snakes.pdf\n",
      "page 28 of Largen & Spawls 2010 part VI snakes.pdf\n",
      "page 29 of Largen & Spawls 2010 part VI snakes.pdf\n",
      "page 30 of Largen & Spawls 2010 part VI snakes.pdf\n",
      "page 31 of Largen & Spawls 2010 part VI snakes.pdf\n",
      "page 32 of Largen & Spawls 2010 part VI snakes.pdf\n",
      "page 33 of Largen & Spawls 2010 part VI snakes.pdf\n",
      "page 34 of Largen & Spawls 2010 part VI snakes.pdf\n",
      "page 35 of Largen & Spawls 2010 part VI snakes.pdf\n",
      "page 36 of Largen & Spawls 2010 part VI snakes.pdf\n",
      "page 37 of Largen & Spawls 2010 part VI snakes.pdf\n",
      "page 38 of Largen & Spawls 2010 part VI snakes.pdf\n",
      "page 39 of Largen & Spawls 2010 part VI snakes.pdf\n",
      "page 40 of Largen & Spawls 2010 part VI snakes.pdf\n",
      "page 41 of Largen & Spawls 2010 part VI snakes.pdf\n",
      "page 42 of Largen & Spawls 2010 part VI snakes.pdf\n",
      "page 43 of Largen & Spawls 2010 part VI snakes.pdf\n",
      "page 44 of Largen & Spawls 2010 part VI snakes.pdf\n",
      "page 45 of Largen & Spawls 2010 part VI snakes.pdf\n",
      "page 46 of Largen & Spawls 2010 part VI snakes.pdf\n",
      "page 47 of Largen & Spawls 2010 part VI snakes.pdf\n",
      "page 48 of Largen & Spawls 2010 part VI snakes.pdf\n",
      "page 49 of Largen & Spawls 2010 part VI snakes.pdf\n",
      "page 50 of Largen & Spawls 2010 part VI snakes.pdf\n",
      "page 51 of Largen & Spawls 2010 part VI snakes.pdf\n",
      "page 52 of Largen & Spawls 2010 part VI snakes.pdf\n",
      "page 53 of Largen & Spawls 2010 part VI snakes.pdf\n",
      "page 54 of Largen & Spawls 2010 part VI snakes.pdf\n",
      "page 55 of Largen & Spawls 2010 part VI snakes.pdf\n",
      "page 56 of Largen & Spawls 2010 part VI snakes.pdf\n",
      "page 57 of Largen & Spawls 2010 part VI snakes.pdf\n",
      "page 58 of Largen & Spawls 2010 part VI snakes.pdf\n",
      "page 59 of Largen & Spawls 2010 part VI snakes.pdf\n",
      "page 60 of Largen & Spawls 2010 part VI snakes.pdf\n",
      "page 61 of Largen & Spawls 2010 part VI snakes.pdf\n",
      "page 62 of Largen & Spawls 2010 part VI snakes.pdf\n",
      "page 63 of Largen & Spawls 2010 part VI snakes.pdf\n",
      "page 64 of Largen & Spawls 2010 part VI snakes.pdf\n",
      "page 65 of Largen & Spawls 2010 part VI snakes.pdf\n",
      "page 66 of Largen & Spawls 2010 part VI snakes.pdf\n",
      "page 67 of Largen & Spawls 2010 part VI snakes.pdf\n",
      "page 68 of Largen & Spawls 2010 part VI snakes.pdf\n",
      "page 69 of Largen & Spawls 2010 part VI snakes.pdf\n",
      "page 70 of Largen & Spawls 2010 part VI snakes.pdf\n",
      "page 71 of Largen & Spawls 2010 part VI snakes.pdf\n",
      "page 72 of Largen & Spawls 2010 part VI snakes.pdf\n",
      "page 73 of Largen & Spawls 2010 part VI snakes.pdf\n",
      "page 74 of Largen & Spawls 2010 part VI snakes.pdf\n",
      "page 75 of Largen & Spawls 2010 part VI snakes.pdf\n",
      "page 76 of Largen & Spawls 2010 part VI snakes.pdf\n",
      "page 77 of Largen & Spawls 2010 part VI snakes.pdf\n",
      "page 78 of Largen & Spawls 2010 part VI snakes.pdf\n",
      "page 79 of Largen & Spawls 2010 part VI snakes.pdf\n",
      "page 80 of Largen & Spawls 2010 part VI snakes.pdf\n",
      "page 81 of Largen & Spawls 2010 part VI snakes.pdf\n",
      "page 82 of Largen & Spawls 2010 part VI snakes.pdf\n",
      "page 83 of Largen & Spawls 2010 part VI snakes.pdf\n",
      "page 84 of Largen & Spawls 2010 part VI snakes.pdf\n",
      "page 85 of Largen & Spawls 2010 part VI snakes.pdf\n",
      "page 86 of Largen & Spawls 2010 part VI snakes.pdf\n",
      "page 87 of Largen & Spawls 2010 part VI snakes.pdf\n",
      "page 88 of Largen & Spawls 2010 part VI snakes.pdf\n",
      "page 89 of Largen & Spawls 2010 part VI snakes.pdf\n",
      "page 90 of Largen & Spawls 2010 part VI snakes.pdf\n",
      "page 91 of Largen & Spawls 2010 part VI snakes.pdf\n",
      "page 92 of Largen & Spawls 2010 part VI snakes.pdf\n",
      "page 93 of Largen & Spawls 2010 part VI snakes.pdf\n",
      "page 94 of Largen & Spawls 2010 part VI snakes.pdf\n",
      "page 95 of Largen & Spawls 2010 part VI snakes.pdf\n",
      "page 96 of Largen & Spawls 2010 part VI snakes.pdf\n",
      "page 97 of Largen & Spawls 2010 part VI snakes.pdf\n",
      "page 98 of Largen & Spawls 2010 part VI snakes.pdf\n",
      "page 99 of Largen & Spawls 2010 part VI snakes.pdf\n",
      "page 100 of Largen & Spawls 2010 part VI snakes.pdf\n",
      "page 101 of Largen & Spawls 2010 part VI snakes.pdf\n",
      "page 102 of Largen & Spawls 2010 part VI snakes.pdf\n",
      "page 103 of Largen & Spawls 2010 part VI snakes.pdf\n",
      "page 104 of Largen & Spawls 2010 part VI snakes.pdf\n",
      "page 105 of Largen & Spawls 2010 part VI snakes.pdf\n",
      "page 106 of Largen & Spawls 2010 part VI snakes.pdf\n",
      "page 107 of Largen & Spawls 2010 part VI snakes.pdf\n"
     ]
    }
   ],
   "source": [
    "for i in range(len(pdf_file1)):\n",
    "    print(pdf_file1[i])"
   ]
  },
  {
   "cell_type": "code",
   "execution_count": null,
   "id": "3d27ff97",
   "metadata": {},
   "outputs": [],
   "source": [
    "# can i first define the pages that have images as a list?\n",
    "#images = [8, ]"
   ]
  },
  {
   "cell_type": "code",
   "execution_count": 6,
   "id": "a1d6b393",
   "metadata": {},
   "outputs": [
    {
     "ename": "AttributeError",
     "evalue": "'generator' object has no attribute 'chars'",
     "output_type": "error",
     "traceback": [
      "\u001b[1;31m---------------------------------------------------------------------------\u001b[0m",
      "\u001b[1;31mAttributeError\u001b[0m                            Traceback (most recent call last)",
      "Input \u001b[1;32mIn [6]\u001b[0m, in \u001b[0;36m<cell line: 3>\u001b[1;34m()\u001b[0m\n\u001b[0;32m      1\u001b[0m \u001b[38;5;66;03m# Our first image is on page 8 at the bottom, technically page 9 in the document 0 is always page 1\u001b[39;00m\n\u001b[0;32m      2\u001b[0m page8 \u001b[38;5;241m=\u001b[39m pdf_file1\u001b[38;5;241m.\u001b[39mpages([\u001b[38;5;241m8\u001b[39m])\n\u001b[1;32m----> 3\u001b[0m \u001b[38;5;28mprint\u001b[39m(\u001b[43mpage8\u001b[49m\u001b[38;5;241;43m.\u001b[39;49m\u001b[43mchars\u001b[49m[\u001b[38;5;241m8\u001b[39m])\n",
      "\u001b[1;31mAttributeError\u001b[0m: 'generator' object has no attribute 'chars'"
     ]
    }
   ],
   "source": [
    "# Our first image is on page 8 at the bottom, technically page 9 in the document 0 is always page 1\n",
    "# See if this can tell us where the location of the picture on the page is\n",
    "page8 = pdf_file1.pages([8])\n",
    "print(page8.chars[8])\n",
    "# maybe not"
   ]
  },
  {
   "cell_type": "code",
   "execution_count": null,
   "id": "db57e0c2",
   "metadata": {},
   "outputs": [],
   "source": [
    "# Set up the bounding box for the image to be cropped and extracted\n",
    "bounding_box = ()"
   ]
  }
 ],
 "metadata": {
  "kernelspec": {
   "display_name": "Python 3 (ipykernel)",
   "language": "python",
   "name": "python3"
  },
  "language_info": {
   "codemirror_mode": {
    "name": "ipython",
    "version": 3
   },
   "file_extension": ".py",
   "mimetype": "text/x-python",
   "name": "python",
   "nbconvert_exporter": "python",
   "pygments_lexer": "ipython3",
   "version": "3.9.12"
  }
 },
 "nbformat": 4,
 "nbformat_minor": 5
}
