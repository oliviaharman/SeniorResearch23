{
 "cells": [
  {
   "cell_type": "markdown",
   "id": "2aca8d88",
   "metadata": {},
   "source": [
    "# Now let's try following the tutorial using our own images"
   ]
  },
  {
   "cell_type": "code",
   "execution_count": 1,
   "id": "cdb5028c",
   "metadata": {},
   "outputs": [],
   "source": [
    "import numpy as np\n",
    "import pandas as pd\n",
    "import matplotlib.pyplot as plt\n",
    "import glob\n",
    "import os\n",
    "import shutil\n",
    "import math\n",
    "import imutils"
   ]
  },
  {
   "cell_type": "code",
   "execution_count": 2,
   "id": "4e77d6ad",
   "metadata": {},
   "outputs": [],
   "source": [
    "SEED_DATA_DIR = \"C:\\Build\\SnakeImages\"\n",
    "num_of_images = {}"
   ]
  },
  {
   "cell_type": "code",
   "execution_count": 3,
   "id": "2a744ff9",
   "metadata": {},
   "outputs": [
    {
     "name": "stdout",
     "output_type": "stream",
     "text": [
      "{'NoSnake': 128, 'Snake': 76}\n"
     ]
    }
   ],
   "source": [
    "for dir in os.listdir(SEED_DATA_DIR):\n",
    "    num_of_images[dir] = len(os.listdir(os.path.join(SEED_DATA_DIR, dir )))\n",
    "\n",
    "print (num_of_images)"
   ]
  },
  {
   "cell_type": "code",
   "execution_count": 4,
   "id": "a2595611",
   "metadata": {},
   "outputs": [],
   "source": [
    "# now we want to create 3 folders: 70% train data, 15% validation data and 15% test data\n",
    "\n",
    "TRAIN_DIR =  \"C:\\Build\\SnakeImages\\\\train\"\n",
    "VALIDATE_DIR =  \"C:\\Build\\SnakeImages\\\\validate\"\n",
    "TEST_DIR =  \"C:\\Build\\SnakeImages\\\\test\""
   ]
  },
  {
   "cell_type": "code",
   "execution_count": null,
   "id": "297e0bc5",
   "metadata": {},
   "outputs": [],
   "source": [
    "# create the train folder :\n",
    "if not os.path.exists(TRAIN_DIR):\n",
    "    os.mkdir(TRAIN_DIR)\n",
    "\n",
    "    for dir in os.listdir(SEED_DATA_DIR):\n",
    "        os.makedirs(TRAIN_DIR + \"/\" + dir)\n",
    "        print (TRAIN_DIR + \"/\" + dir)\n",
    "\n",
    "        for img in np.random.choice(a=os.listdir(os.path.join(SEED_DATA_DIR,dir)) , size= (math.floor(70/100* num_of_images[dir] )-5) , replace=False ):\n",
    "            O = os.path.join(SEED_DATA_DIR, dir , img)\n",
    "            print(O)\n",
    "            D = os.path.join(TRAIN_DIR, dir)\n",
    "            print(D)\n",
    "            shutil.copy(O,D)\n",
    "            os.remove(O)\n",
    "else:\n",
    "    print(\"Train Folder Exists\")"
   ]
  },
  {
   "cell_type": "code",
   "execution_count": null,
   "id": "777ee138",
   "metadata": {},
   "outputs": [],
   "source": []
  }
 ],
 "metadata": {
  "kernelspec": {
   "display_name": "Python 3 (ipykernel)",
   "language": "python",
   "name": "python3"
  },
  "language_info": {
   "codemirror_mode": {
    "name": "ipython",
    "version": 3
   },
   "file_extension": ".py",
   "mimetype": "text/x-python",
   "name": "python",
   "nbconvert_exporter": "python",
   "pygments_lexer": "ipython3",
   "version": "3.11.5"
  }
 },
 "nbformat": 4,
 "nbformat_minor": 5
}
