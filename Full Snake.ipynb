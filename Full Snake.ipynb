{
 "cells": [
  {
   "cell_type": "markdown",
   "id": "8c425711",
   "metadata": {},
   "source": [
    "## Full script for TensorFlow CNN model to recognize snakes w description"
   ]
  },
  {
   "cell_type": "markdown",
   "id": "2a799caf",
   "metadata": {},
   "source": [
    "##### Step 1: Split the data"
   ]
  },
  {
   "cell_type": "code",
   "execution_count": 1,
   "id": "8661d0ef",
   "metadata": {},
   "outputs": [],
   "source": [
    "import numpy as np\n",
    "import pandas as pd\n",
    "import matplotlib.pyplot as plt\n",
    "import glob\n",
    "import os\n",
    "import shutil\n",
    "import math\n",
    "import imutils"
   ]
  },
  {
   "cell_type": "code",
   "execution_count": 2,
   "id": "2078551f",
   "metadata": {},
   "outputs": [],
   "source": [
    "SEED_DATA_DIR = \"C:\\Build\\SnakeImages\"\n",
    "num_of_images = {}"
   ]
  },
  {
   "cell_type": "code",
   "execution_count": 3,
   "id": "94103e4e",
   "metadata": {},
   "outputs": [
    {
     "name": "stdout",
     "output_type": "stream",
     "text": [
      "{'NoSnake': 17, 'Snake': 16, 'test': 3, 'train': 3, 'validate': 3}\n"
     ]
    }
   ],
   "source": [
    "for dir in os.listdir(SEED_DATA_DIR):\n",
    "    num_of_images[dir] = len(os.listdir(os.path.join(SEED_DATA_DIR, dir )))\n",
    "\n",
    "print (num_of_images)"
   ]
  },
  {
   "cell_type": "code",
   "execution_count": 4,
   "id": "9bf4c8a6",
   "metadata": {},
   "outputs": [],
   "source": [
    "# now we want to create 3 folders: 70% train data, 15% validation data and 15% test data\n",
    "\n",
    "TRAIN_DIR =  \"C:\\Build\\SnakeImages\\\\train\"\n",
    "VALIDATE_DIR =  \"C:\\Build\\SnakeImages\\\\validate\"\n",
    "TEST_DIR =  \"C:\\Build\\SnakeImages\\\\test\""
   ]
  },
  {
   "cell_type": "code",
   "execution_count": 5,
   "id": "c55dd290",
   "metadata": {},
   "outputs": [
    {
     "name": "stdout",
     "output_type": "stream",
     "text": [
      "Train Folder Exists\n"
     ]
    }
   ],
   "source": [
    "# create the train folder :\n",
    "if not os.path.exists(TRAIN_DIR):\n",
    "    os.mkdir(TRAIN_DIR)\n",
    "\n",
    "    for dir in os.listdir(SEED_DATA_DIR):\n",
    "        os.makedirs(TRAIN_DIR + \"/\" + dir)\n",
    "        print (TRAIN_DIR + \"/\" + dir)\n",
    "\n",
    "        for img in np.random.choice(a=os.listdir(os.path.join(SEED_DATA_DIR,dir)) , size= (math.floor(70/100* num_of_images[dir] )-5) , replace=False ):\n",
    "            O = os.path.join(SEED_DATA_DIR, dir , img)\n",
    "            print(O)\n",
    "            D = os.path.join(TRAIN_DIR, dir)\n",
    "            print(D)\n",
    "            shutil.copy(O,D)\n",
    "            os.remove(O)\n",
    "else:\n",
    "    print(\"Train Folder Exists\")"
   ]
  },
  {
   "cell_type": "code",
   "execution_count": 6,
   "id": "01c2627c",
   "metadata": {},
   "outputs": [
    {
     "name": "stdout",
     "output_type": "stream",
     "text": [
      "Test Folder Exists\n"
     ]
    }
   ],
   "source": [
    "# create the test folder\n",
    "if not os.path.exists(TEST_DIR):\n",
    "    os.mkdir(TEST_DIR)\n",
    "\n",
    "    for dir in os.listdir(SEED_DATA_DIR):\n",
    "        os.makedirs(TEST_DIR + \"/\" + dir)\n",
    "        print (TEST_DIR + \"/\" + dir)\n",
    "\n",
    "        for img in np.random.choice(a=os.listdir(os.path.join(SEED_DATA_DIR,dir)) , size= (math.floor(15/100* num_of_images[dir] )-5) , replace=False ):\n",
    "            O = os.path.join(SEED_DATA_DIR, dir , img)\n",
    "            print(O)\n",
    "            D = os.path.join(TEST_DIR, dir)\n",
    "            print(D)\n",
    "            shutil.copy(O,D)\n",
    "            os.remove(O)\n",
    "else:\n",
    "    print(\"Test Folder Exists\")"
   ]
  },
  {
   "cell_type": "code",
   "execution_count": 7,
   "id": "e9075bce",
   "metadata": {},
   "outputs": [
    {
     "name": "stdout",
     "output_type": "stream",
     "text": [
      "Validate Folder Exists\n"
     ]
    }
   ],
   "source": [
    "# create the validate folder\n",
    "if not os.path.exists(VALIDATE_DIR):\n",
    "    os.mkdir(VALIDATE_DIR)\n",
    "\n",
    "    for dir in os.listdir(SEED_DATA_DIR):\n",
    "        os.makedirs(VALIDATE_DIR + \"/\" + dir)\n",
    "        print (VALIDATE_DIR + \"/\" + dir)\n",
    "\n",
    "        for img in np.random.choice(a=os.listdir(os.path.join(SEED_DATA_DIR,dir)) , size= (math.floor(15/100* num_of_images[dir] )-5) , replace=False ):\n",
    "            O = os.path.join(SEED_DATA_DIR, dir , img)\n",
    "            print(O)\n",
    "            D = os.path.join(VALIDATE_DIR, dir)\n",
    "            print(D)\n",
    "            shutil.copy(O,D)\n",
    "            os.remove(O)\n",
    "else:\n",
    "    print(\"Validate Folder Exists\")"
   ]
  },
  {
   "cell_type": "markdown",
   "id": "c3ab43e8",
   "metadata": {},
   "source": [
    "##### Step 2: Build the model!"
   ]
  },
  {
   "cell_type": "code",
   "execution_count": 8,
   "id": "e26ac104",
   "metadata": {},
   "outputs": [],
   "source": [
    "from matplotlib.pyplot import cla\n",
    "import numpy as np\n",
    "import matplotlib.pyplot as plt\n",
    "from keras.layers import Dense, Conv2D, Flatten, MaxPooling2D, Dropout, BatchNormalization, MaxPool2D, GlobalAveragePooling2D\n",
    "from keras.models import Sequential\n",
    "from keras.preprocessing import image\n",
    "import keras"
   ]
  },
  {
   "cell_type": "code",
   "execution_count": 9,
   "id": "ae950e2d",
   "metadata": {},
   "outputs": [],
   "source": [
    "TRAIN_DIR =  \"C:\\Build\\SnakeImages\\\\train\"\n",
    "VALIDATE_DIR =  \"C:\\Build\\SnakeImages\\\\validate\""
   ]
  },
  {
   "cell_type": "code",
   "execution_count": 10,
   "id": "22de621e",
   "metadata": {},
   "outputs": [
    {
     "name": "stdout",
     "output_type": "stream",
     "text": [
      "Model: \"sequential\"\n",
      "_________________________________________________________________\n",
      " Layer (type)                Output Shape              Param #   \n",
      "=================================================================\n",
      " conv2d (Conv2D)             (None, 222, 222, 32)      896       \n",
      "                                                                 \n",
      " conv2d_1 (Conv2D)           (None, 220, 220, 64)      18496     \n",
      "                                                                 \n",
      " max_pooling2d (MaxPooling2  (None, 110, 110, 64)      0         \n",
      " D)                                                              \n",
      "                                                                 \n",
      " conv2d_2 (Conv2D)           (None, 108, 108, 128)     73856     \n",
      "                                                                 \n",
      " max_pooling2d_1 (MaxPoolin  (None, 54, 54, 128)       0         \n",
      " g2D)                                                            \n",
      "                                                                 \n",
      " conv2d_3 (Conv2D)           (None, 52, 52, 256)       295168    \n",
      "                                                                 \n",
      " max_pooling2d_2 (MaxPoolin  (None, 26, 26, 256)       0         \n",
      " g2D)                                                            \n",
      "                                                                 \n",
      " dropout (Dropout)           (None, 26, 26, 256)       0         \n",
      "                                                                 \n",
      " flatten (Flatten)           (None, 173056)            0         \n",
      "                                                                 \n",
      " dense (Dense)               (None, 64)                11075648  \n",
      "                                                                 \n",
      " dropout_1 (Dropout)         (None, 64)                0         \n",
      "                                                                 \n",
      " dense_1 (Dense)             (None, 1)                 65        \n",
      "                                                                 \n",
      "=================================================================\n",
      "Total params: 11464129 (43.73 MB)\n",
      "Trainable params: 11464129 (43.73 MB)\n",
      "Non-trainable params: 0 (0.00 Byte)\n",
      "_________________________________________________________________\n",
      "None\n"
     ]
    }
   ],
   "source": [
    "# build the CNN model\n",
    "model = Sequential()\n",
    "model.add(Conv2D(filters=32, kernel_size=(3,3), activation='relu', input_shape = (224,224,3)    ))\n",
    "\n",
    "model.add(Conv2D(filters=64, kernel_size=(3,3),  activation='relu' ))\n",
    "model.add(MaxPool2D(pool_size=(2,2)))\n",
    "\n",
    "model.add(Conv2D(filters=128, kernel_size=(3,3),  activation='relu' ))\n",
    "model.add(MaxPool2D(pool_size=(2,2)))\n",
    "\n",
    "model.add(Conv2D(filters=256, kernel_size=(3,3),  activation='relu' ))\n",
    "model.add(MaxPool2D(pool_size=(2,2)))\n",
    "\n",
    "model.add(Dropout(rate=0.25))\n",
    "\n",
    "model.add(Flatten())\n",
    "\n",
    "model.add(Dense(units=64, activation='relu'))\n",
    "model.add(Dropout(rate=0.25))\n",
    "\n",
    "#final layer:\n",
    "model.add(Dense(units=1, activation='sigmoid'))\n",
    "\n",
    "model.compile(loss=keras.losses.binary_crossentropy, optimizer='adam', metrics=['accuracy'])\n",
    "\n",
    "print(model.summary())"
   ]
  },
  {
   "cell_type": "code",
   "execution_count": 11,
   "id": "f88b0386",
   "metadata": {},
   "outputs": [
    {
     "name": "stdout",
     "output_type": "stream",
     "text": [
      "Found 973 images belonging to 3 classes.\n",
      "Found 200 images belonging to 3 classes.\n"
     ]
    }
   ],
   "source": [
    "# create the train data augmentation object\n",
    "# ==========================================\n",
    "\n",
    "train_datagen = image.ImageDataGenerator(\n",
    "    zoom_range=0.2 , shear_range=0.2, rescale=1. / 255 , horizontal_flip=True\n",
    ")\n",
    "\n",
    "val_datagen = image.ImageDataGenerator( rescale= 1. / 255)\n",
    "\n",
    "train_data = train_datagen.flow_from_directory(directory=TRAIN_DIR , target_size=(224,224) , batch_size=32 , class_mode='binary')\n",
    "val_data = val_datagen.flow_from_directory(directory=VALIDATE_DIR, target_size=(224,224), batch_size=32, class_mode='binary')"
   ]
  },
  {
   "cell_type": "code",
   "execution_count": 12,
   "id": "d3309669",
   "metadata": {},
   "outputs": [],
   "source": [
    "# create model check point for the performence of the model\n",
    "\n",
    "from keras.callbacks import ModelCheckpoint , EarlyStopping"
   ]
  },
  {
   "cell_type": "code",
   "execution_count": 13,
   "id": "0fa9f06f",
   "metadata": {},
   "outputs": [
    {
     "name": "stdout",
     "output_type": "stream",
     "text": [
      "Epoch 1/30\n",
      "31/31 [==============================] - ETA: 0s - loss: 0.6372 - accuracy: 0.6886 \n",
      "Epoch 1: val_accuracy improved from -inf to 0.76500, saving model to C:\\Build\\SnakeImages\\MyBestModel.h5\n"
     ]
    },
    {
     "name": "stderr",
     "output_type": "stream",
     "text": [
      "C:\\Users\\olivi\\AppData\\Local\\Programs\\Python\\Python311\\Lib\\site-packages\\keras\\src\\engine\\training.py:3000: UserWarning: You are saving your model as an HDF5 file via `model.save()`. This file format is considered legacy. We recommend using instead the native Keras format, e.g. `model.save('my_model.keras')`.\n",
      "  saving_api.save_model(\n"
     ]
    },
    {
     "name": "stdout",
     "output_type": "stream",
     "text": [
      "31/31 [==============================] - 442s 14s/step - loss: 0.6372 - accuracy: 0.6886 - val_loss: 0.5178 - val_accuracy: 0.7650\n",
      "Epoch 2/30\n",
      "31/31 [==============================] - ETA: 0s - loss: 0.4945 - accuracy: 0.7801 \n",
      "Epoch 2: val_accuracy did not improve from 0.76500\n",
      "31/31 [==============================] - 425s 14s/step - loss: 0.4945 - accuracy: 0.7801 - val_loss: 0.5105 - val_accuracy: 0.7500\n",
      "Epoch 3/30\n",
      "31/31 [==============================] - ETA: 0s - loss: 0.4818 - accuracy: 0.7729 \n",
      "Epoch 3: val_accuracy improved from 0.76500 to 0.78000, saving model to C:\\Build\\SnakeImages\\MyBestModel.h5\n",
      "31/31 [==============================] - 443s 14s/step - loss: 0.4818 - accuracy: 0.7729 - val_loss: 0.4685 - val_accuracy: 0.7800\n",
      "Epoch 4/30\n",
      "31/31 [==============================] - ETA: 0s - loss: 0.4562 - accuracy: 0.7873 \n",
      "Epoch 4: val_accuracy improved from 0.78000 to 0.79500, saving model to C:\\Build\\SnakeImages\\MyBestModel.h5\n",
      "31/31 [==============================] - 601s 19s/step - loss: 0.4562 - accuracy: 0.7873 - val_loss: 0.4734 - val_accuracy: 0.7950\n",
      "Epoch 5/30\n",
      "31/31 [==============================] - ETA: 0s - loss: 0.4456 - accuracy: 0.7924 \n",
      "Epoch 5: val_accuracy did not improve from 0.79500\n",
      "31/31 [==============================] - 569s 18s/step - loss: 0.4456 - accuracy: 0.7924 - val_loss: 0.4896 - val_accuracy: 0.7950\n",
      "Epoch 6/30\n",
      "31/31 [==============================] - ETA: 0s - loss: 0.4436 - accuracy: 0.7986 \n",
      "Epoch 6: val_accuracy did not improve from 0.79500\n",
      "31/31 [==============================] - 969s 32s/step - loss: 0.4436 - accuracy: 0.7986 - val_loss: 0.5110 - val_accuracy: 0.7750\n",
      "Epoch 7/30\n",
      "31/31 [==============================] - ETA: 0s - loss: 0.4255 - accuracy: 0.8119 \n",
      "Epoch 7: val_accuracy did not improve from 0.79500\n",
      "31/31 [==============================] - 590s 19s/step - loss: 0.4255 - accuracy: 0.8119 - val_loss: 0.4533 - val_accuracy: 0.7650\n",
      "Epoch 8/30\n",
      "31/31 [==============================] - ETA: 0s - loss: 0.4097 - accuracy: 0.7914 \n",
      "Epoch 8: val_accuracy did not improve from 0.79500\n",
      "31/31 [==============================] - 568s 18s/step - loss: 0.4097 - accuracy: 0.7914 - val_loss: 0.4773 - val_accuracy: 0.7800\n",
      "Epoch 9/30\n",
      "31/31 [==============================] - ETA: 0s - loss: 0.3849 - accuracy: 0.8243 \n",
      "Epoch 9: val_accuracy did not improve from 0.79500\n",
      "31/31 [==============================] - 529s 17s/step - loss: 0.3849 - accuracy: 0.8243 - val_loss: 0.4864 - val_accuracy: 0.7600\n",
      "Epoch 9: early stopping\n",
      "Keys :  dict_keys(['loss', 'accuracy', 'val_loss', 'val_accuracy'])\n"
     ]
    }
   ],
   "source": [
    "# lets stop the training if the accuracy is good\n",
    "\n",
    "es = EarlyStopping(monitor='val_accuracy', min_delta=0.01 , patience=5 , verbose=1 , mode='auto')\n",
    "mc = ModelCheckpoint(filepath='C:\\Build\\SnakeImages\\MyBestModel.h5', monitor='val_accuracy' ,  verbose=1 , mode='auto' , save_best_only=True)\n",
    "\n",
    "\n",
    "call_back = [es, mc]\n",
    "\n",
    "hist = model.fit(x=train_data, epochs=30 , verbose=1, validation_data=val_data, callbacks=call_back)\n",
    "\n",
    "h = hist.history\n",
    "print('Keys : ', h.keys() )"
   ]
  },
  {
   "cell_type": "code",
   "execution_count": 14,
   "id": "7b8d791c",
   "metadata": {},
   "outputs": [
    {
     "data": {
      "image/png": "[encoded data removed]",
      "text/plain": [
       "<Figure size 640x480 with 1 Axes>"
      ]
     },
     "metadata": {},
     "output_type": "display_data"
    },
    {
     "data": {
      "image/png": "[encoded data removed]",
      "text/plain": [
       "<Figure size 640x480 with 1 Axes>"
      ]
     },
     "metadata": {},
     "output_type": "display_data"
    }
   ],
   "source": [
    "#accuracy \n",
    "plt.plot(h['accuracy'])\n",
    "plt.plot(h['val_accuracy'], c='red')\n",
    "plt.title('Accuracy vs. Val Accuracy')\n",
    "plt.xlabel('Epoch')\n",
    "plt.ylabel('Accuracy')\n",
    "plt.gca().legend(('Accuracy','Val Accuracy')) # is the legend correct?\n",
    "plt.savefig('Accuracy_plot.png')  \n",
    "plt.show()\n",
    "\n",
    "\n",
    "#loss\n",
    "plt.plot(h['loss'])\n",
    "plt.plot(h['val_loss'], c='red')\n",
    "plt.title('loss vs. Val loss')\n",
    "plt.xlabel('Epoch')\n",
    "plt.ylabel('Loss')\n",
    "plt.gca().legend(('Loss','Val Loss'))\n",
    "plt.savefig('Loss_plot.png')  # photos didn't save right lol why\n",
    "plt.show()\n"
   ]
  },
  {
   "cell_type": "markdown",
   "id": "7699eba8",
   "metadata": {},
   "source": [
    "##### Step 3: Check the accuracy of the model"
   ]
  },
  {
   "cell_type": "code",
   "execution_count": 15,
   "id": "a71df383",
   "metadata": {},
   "outputs": [],
   "source": [
    "from locale import normalize\n",
    "import numpy as np\n",
    "from keras.models import load_model\n",
    "from keras.preprocessing import image\n",
    "import keras\n",
    "import cv2"
   ]
  },
  {
   "cell_type": "code",
   "execution_count": 16,
   "id": "b9fdbcfa",
   "metadata": {},
   "outputs": [
    {
     "name": "stdout",
     "output_type": "stream",
     "text": [
      "Found 200 images belonging to 3 classes.\n"
     ]
    }
   ],
   "source": [
    "TEST_DIR =  \"C:\\Build\\SnakeImages\\\\test\"\n",
    "\n",
    "test_datagen = image.ImageDataGenerator( rescale= 1. / 255)\n",
    "test_data = test_datagen.flow_from_directory(directory=TEST_DIR , target_size=(224,224) , batch_size=32 , class_mode='binary')"
   ]
  },
  {
   "cell_type": "code",
   "execution_count": 17,
   "id": "61168ca4",
   "metadata": {},
   "outputs": [
    {
     "name": "stdout",
     "output_type": "stream",
     "text": [
      "test_data.class_indices:  {'NoSnake': 0, 'Snake': 1, 'test': 2}\n"
     ]
    }
   ],
   "source": [
    "# lets print the classes :\n",
    "\n",
    "print(\"test_data.class_indices: \", test_data.class_indices)"
   ]
  },
  {
   "cell_type": "code",
   "execution_count": 18,
   "id": "2ef4f2ad",
   "metadata": {},
   "outputs": [
    {
     "name": "stdout",
     "output_type": "stream",
     "text": [
      "7/7 [==============================] - 40s 5s/step - loss: 0.4398 - accuracy: 0.8050\n",
      "0.8050000071525574\n"
     ]
    }
   ],
   "source": [
    "#load the saved model :\n",
    "\n",
    "model = load_model('C:\\Build\\SnakeImages\\MyBestModel.h5')\n",
    "\n",
    "#print(model.summary() )\n",
    "\n",
    "acc = model.evaluate(x=test_data)[1]\n",
    "\n",
    "print(acc)"
   ]
  },
  {
   "cell_type": "code",
   "execution_count": 26,
   "id": "52aa4a31",
   "metadata": {},
   "outputs": [
    {
     "name": "stdout",
     "output_type": "stream",
     "text": [
      "(224, 224, 3)\n",
      "(1, 224, 224, 3)\n"
     ]
    }
   ],
   "source": [
    "# load an image from the test folder \n",
    "imagePath = r'C:\\Build\\SnakeImages\\test\\Snake\\image43_1.png'  \n",
    "\n",
    "img = image.load_img(imagePath,target_size=(224,224))\n",
    "i = image.img_to_array(img) # convert to array\n",
    "i = i / 255 # -> normalize to our model\n",
    "print(i.shape)\n",
    "\n",
    "input_arr = np.array([i]) \n",
    "print(input_arr.shape)"
   ]
  },
  {
   "cell_type": "code",
   "execution_count": 27,
   "id": "82646030",
   "metadata": {},
   "outputs": [
    {
     "name": "stdout",
     "output_type": "stream",
     "text": [
      "1/1 [==============================] - 0s 417ms/step\n",
      "0.93102574\n"
     ]
    }
   ],
   "source": [
    "# run the prediction\n",
    "predictions = model.predict(input_arr)[0][0]\n",
    "print(predictions)"
   ]
  },
  {
   "cell_type": "code",
   "execution_count": 28,
   "id": "253e6d96",
   "metadata": {},
   "outputs": [
    {
     "name": "stdout",
     "output_type": "stream",
     "text": [
      "No snake\n"
     ]
    }
   ],
   "source": [
    "# since it is binary if the result is close to 0 there is a snake , and if it close to 1 there is no snake\n",
    "result = round(predictions)\n",
    "if result == 0 :\n",
    "    text = 'Has a snake'\n",
    "else :\n",
    "    text = \"No snake\"\n",
    "\n",
    "\n",
    "print(text)"
   ]
  },
  {
   "cell_type": "code",
   "execution_count": 29,
   "id": "8b256b43",
   "metadata": {},
   "outputs": [
    {
     "data": {
      "text/plain": [
       "True"
      ]
     },
     "execution_count": 29,
     "metadata": {},
     "output_type": "execute_result"
    }
   ],
   "source": [
    "imgResult = cv2.imread(imagePath)\n",
    "font = cv2.FONT_HERSHEY_COMPLEX\n",
    "cv2.putText(imgResult, text, (0,20), font, 0.8 , (255,0,0),2 )\n",
    "cv2.imshow('img', imgResult)\n",
    "cv2.waitKey(0)\n",
    "cv2.imwrite(\"C:\\Build\\SnakeImages\\predictImage.jpg\",imgResult) # rename each time"
   ]
  },
  {
   "cell_type": "code",
   "execution_count": null,
   "id": "4a97fef2",
   "metadata": {},
   "outputs": [],
   "source": []
  },
  {
   "cell_type": "code",
   "execution_count": null,
   "id": "dff5bd4c",
   "metadata": {},
   "outputs": [],
   "source": []
  },
  {
   "cell_type": "code",
   "execution_count": null,
   "id": "7136947a",
   "metadata": {},
   "outputs": [],
   "source": []
  },
  {
   "cell_type": "code",
   "execution_count": null,
   "id": "ce19a566",
   "metadata": {},
   "outputs": [],
   "source": []
  },
  {
   "cell_type": "code",
   "execution_count": null,
   "id": "3cece6f4",
   "metadata": {},
   "outputs": [],
   "source": []
  },
  {
   "cell_type": "code",
   "execution_count": null,
   "id": "a38bf369",
   "metadata": {},
   "outputs": [],
   "source": []
  }
 ],
 "metadata": {
  "kernelspec": {
   "display_name": "Python 3 (ipykernel)",
   "language": "python",
   "name": "python3"
  },
  "language_info": {
   "codemirror_mode": {
    "name": "ipython",
    "version": 3
   },
   "file_extension": ".py",
   "mimetype": "text/x-python",
   "name": "python",
   "nbconvert_exporter": "python",
   "pygments_lexer": "ipython3",
   "version": "3.11.5"
  }
 },
 "nbformat": 4,
 "nbformat_minor": 5
}
