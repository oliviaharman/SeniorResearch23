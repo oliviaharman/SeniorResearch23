{
 "cells": [
  {
   "cell_type": "markdown",
   "id": "57090bb0",
   "metadata": {},
   "source": [
    "# Now we want to check the accuracy of the model with the test data. Then we will run predictions on an image"
   ]
  },
  {
   "cell_type": "code",
   "execution_count": null,
   "id": "3659d0da",
   "metadata": {},
   "outputs": [],
   "source": [
    "from locale import normalize\n",
    "import numpy as np\n",
    "from keras.models import load_model\n",
    "from keras.preprocessing import image\n",
    "import keras\n",
    "import cv2"
   ]
  }
 ],
 "metadata": {
  "kernelspec": {
   "display_name": "Python 3 (ipykernel)",
   "language": "python",
   "name": "python3"
  },
  "language_info": {
   "codemirror_mode": {
    "name": "ipython",
    "version": 3
   },
   "file_extension": ".py",
   "mimetype": "text/x-python",
   "name": "python",
   "nbconvert_exporter": "python",
   "pygments_lexer": "ipython3",
   "version": "3.11.5"
  }
 },
 "nbformat": 4,
 "nbformat_minor": 5
}
