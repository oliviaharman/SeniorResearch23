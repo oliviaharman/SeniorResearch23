{
 "cells": [
  {
   "cell_type": "markdown",
   "id": "3a53b1e8",
   "metadata": {},
   "source": [
    "## New and improved PyMuPDF script - let's see if it works"
   ]
  },
  {
   "cell_type": "code",
   "execution_count": 1,
   "id": "8acb28d7",
   "metadata": {},
   "outputs": [
    {
     "name": "stdout",
     "output_type": "stream",
     "text": [
      "Processing page 50\n",
      "Processing page 100\n",
      "Processing page 150\n",
      "Processing page 200\n",
      "Processing page 250\n",
      "Processing page 300\n",
      "Processing page 350\n",
      "Processing page 400\n",
      "Processing page 450\n",
      "Processing page 500\n",
      "Processing page 550\n",
      "Processing page 600\n"
     ]
    }
   ],
   "source": [
    "import fitz\n",
    "\n",
    "xrefs = set()  # prevent multiple processing for same image\n",
    "doc = fitz.open(\"Spawls et al 2023 - R&A Northeast Africa 1.pdf\")\n",
    "for i in range(doc.page_count):  # iterate over pages\n",
    "    if i > 0 and i % 50 == 0:  # some entertainment messages\n",
    "        print(f\"Processing page {i}\")\n",
    "    for item in doc.get_page_images(i):  # iterate over images on this page\n",
    "        # Note we do not load any pages - as we would when using page.get_imges()\n",
    "        xref = item[0]  # the image xref\n",
    "        if xref in xrefs:  # skip if done earlier already\n",
    "            continue\n",
    "        xrefs.add(xref)\n",
    "        pix = fitz.Pixmap(doc, xref)\n",
    "        if pix.colorspace == None:  # skip \"mask\" images\n",
    "            continue\n",
    "        if pix.n not in (1, 3):  # if neither Gray nor RGB, convert\n",
    "            pix = fitz.Pixmap(fitz.csRGB, pix)\n",
    "        try:  # things may still go wrong\n",
    "            pix.save(f\"page-{i}-{xref}.png\")\n",
    "        except RuntimeError:  # problems may occurs for special Gray pixmaps\n",
    "            if pix.n == 1:  # convert one more time\n",
    "                pix = fitz.Pixmap(fitz.csGRAY, pix)\n",
    "                pix.save(f\"page-{i}-{xref}.png\")"
   ]
  },
  {
   "cell_type": "markdown",
   "id": "a81fd986",
   "metadata": {},
   "source": [
    "### It worked!! Didn't save to a directory but that can be done manually!\n",
    "##### Also it saved the images as png, when the others were saved as jpeg, let's see if that causes any issues."
   ]
  },
  {
   "cell_type": "code",
   "execution_count": null,
   "id": "091fcfb6",
   "metadata": {},
   "outputs": [],
   "source": []
  },
  {
   "cell_type": "code",
   "execution_count": null,
   "id": "c1e6b9de",
   "metadata": {},
   "outputs": [],
   "source": []
  },
  {
   "cell_type": "code",
   "execution_count": null,
   "id": "7e02f0cb",
   "metadata": {},
   "outputs": [],
   "source": []
  },
  {
   "cell_type": "code",
   "execution_count": null,
   "id": "b686d169",
   "metadata": {},
   "outputs": [],
   "source": []
  },
  {
   "cell_type": "code",
   "execution_count": null,
   "id": "2bc71c22",
   "metadata": {},
   "outputs": [],
   "source": []
  }
 ],
 "metadata": {
  "kernelspec": {
   "display_name": "Python 3 (ipykernel)",
   "language": "python",
   "name": "python3"
  },
  "language_info": {
   "codemirror_mode": {
    "name": "ipython",
    "version": 3
   },
   "file_extension": ".py",
   "mimetype": "text/x-python",
   "name": "python",
   "nbconvert_exporter": "python",
   "pygments_lexer": "ipython3",
   "version": "3.11.5"
  }
 },
 "nbformat": 4,
 "nbformat_minor": 5
}
