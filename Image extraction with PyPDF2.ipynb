{
 "cells": [
  {
   "cell_type": "markdown",
   "id": "8ac7032b",
   "metadata": {},
   "source": [
    "# PyPDF2\n",
    "#### First attempt at pulling images from the pdf files!!"
   ]
  },
  {
   "cell_type": "code",
   "execution_count": 2,
   "id": "5606d5f3",
   "metadata": {},
   "outputs": [],
   "source": [
    "from PyPDF2 import PdfReader\n",
    "\n",
    "reader = PdfReader(\"Largen & Spawls 2010 part VI snakes.pdf\")\n",
    "for page in reader.pages:\n",
    "    for image in page.images:\n",
    "        with open(image.name, \"wb\") as fp:\n",
    "            fp.write(image.data)"
   ]
  },
  {
   "cell_type": "code",
   "execution_count": 3,
   "id": "c865cf9d",
   "metadata": {},
   "outputs": [],
   "source": [
    "from PIL import Image\n",
    "\n",
    "from PyPDF2 import PdfReader\n",
    "\n",
    "\n",
    "def extract_image(pdf_file_path):\n",
    "    reader = PdfReader(pdf_file_path)\n",
    "    page = reader.pages[0]\n",
    "    x_object = page[\"/Resources\"][\"/XObject\"].getObject()\n",
    "\n",
    "    for obj in x_object:\n",
    "        if x_object[obj][\"/Subtype\"] == \"/Image\":\n",
    "            size = (x_object[obj][\"/Width\"], x_object[obj][\"/Height\"])\n",
    "            data = x_object[obj].getData()\n",
    "            if x_object[obj][\"/ColorSpace\"] == \"/DeviceRGB\":\n",
    "                mode = \"RGB\"\n",
    "            else:\n",
    "                mode = \"P\"\n",
    "\n",
    "            if x_object[obj][\"/Filter\"] == \"/FlateDecode\":\n",
    "                img = Image.frombytes(mode, size, data)\n",
    "                img.save(obj[1:] + \".png\")\n",
    "            elif x_object[obj][\"/Filter\"] == \"/DCTDecode\":\n",
    "                img = open(obj[1:] + \".jpg\", \"wb\")\n",
    "                img.write(data)\n",
    "                img.close()\n",
    "            elif x_object[obj][\"/Filter\"] == \"/JPXDecode\":\n",
    "                img = open(obj[1:] + \".jp2\", \"wb\")\n",
    "                img.write(data)\n",
    "                img.close()"
   ]
  },
  {
   "cell_type": "code",
   "execution_count": 14,
   "id": "f424c1c0",
   "metadata": {},
   "outputs": [
    {
     "ename": "AttributeError",
     "evalue": "'Document' object has no attribute 'getPageImageList'",
     "output_type": "error",
     "traceback": [
      "\u001b[1;31m---------------------------------------------------------------------------\u001b[0m",
      "\u001b[1;31mAttributeError\u001b[0m                            Traceback (most recent call last)",
      "Input \u001b[1;32mIn [14]\u001b[0m, in \u001b[0;36m<cell line: 3>\u001b[1;34m()\u001b[0m\n\u001b[0;32m      2\u001b[0m doc \u001b[38;5;241m=\u001b[39m fitz\u001b[38;5;241m.\u001b[39mopen(\u001b[38;5;124m\"\u001b[39m\u001b[38;5;124mLargen & Spawls 2010 part VI snakes.pdf\u001b[39m\u001b[38;5;124m\"\u001b[39m)\n\u001b[0;32m      3\u001b[0m \u001b[38;5;28;01mfor\u001b[39;00m i \u001b[38;5;129;01min\u001b[39;00m \u001b[38;5;28mrange\u001b[39m(\u001b[38;5;28mlen\u001b[39m(doc)):\n\u001b[1;32m----> 4\u001b[0m     \u001b[38;5;28;01mfor\u001b[39;00m img \u001b[38;5;129;01min\u001b[39;00m \u001b[43mdoc\u001b[49m\u001b[38;5;241;43m.\u001b[39;49m\u001b[43mgetPageImageList\u001b[49m(i):\n\u001b[0;32m      5\u001b[0m         xref \u001b[38;5;241m=\u001b[39m img[\u001b[38;5;241m0\u001b[39m]\n\u001b[0;32m      6\u001b[0m         pix \u001b[38;5;241m=\u001b[39m fitz\u001b[38;5;241m.\u001b[39mPixmap(doc, xref)\n",
      "\u001b[1;31mAttributeError\u001b[0m: 'Document' object has no attribute 'getPageImageList'"
     ]
    }
   ],
   "source": []
  },
  {
   "cell_type": "code",
   "execution_count": null,
   "id": "e3606a3e",
   "metadata": {},
   "outputs": [],
   "source": []
  }
 ],
 "metadata": {
  "kernelspec": {
   "display_name": "Python 3 (ipykernel)",
   "language": "python",
   "name": "python3"
  },
  "language_info": {
   "codemirror_mode": {
    "name": "ipython",
    "version": 3
   },
   "file_extension": ".py",
   "mimetype": "text/x-python",
   "name": "python",
   "nbconvert_exporter": "python",
   "pygments_lexer": "ipython3",
   "version": "3.9.12"
  }
 },
 "nbformat": 4,
 "nbformat_minor": 5
}
