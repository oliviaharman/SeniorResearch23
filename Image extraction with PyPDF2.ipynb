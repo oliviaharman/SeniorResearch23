{
 "cells": [
  {
   "cell_type": "markdown",
   "id": "8ac7032b",
   "metadata": {},
   "source": [
    "# PyPDF2\n",
    "#### Media boxes might be the way to go, but it looks like the only possible way is to pull the images manually as of right now - can use mediabox or cropbox.\n",
    "#### I think this manual version won't be so bad since the code can pretty much be copied and pated over and over again - just have to change page number and location. Still not as automated as desired."
   ]
  },
  {
   "cell_type": "code",
   "execution_count": 6,
   "id": "5606d5f3",
   "metadata": {},
   "outputs": [],
   "source": [
    "from PyPDF2 import PdfReader, PdfWriter, PdfMerger\n",
    "\n",
    "page = PdfReader('Largen & Spawls 2010 part VI snakes.pdf')\n",
    "bbox = ('Largen & Spawls 2010 part VI snakes.pdf')\n",
    "output = PdfWriter()"
   ]
  },
  {
   "cell_type": "code",
   "execution_count": null,
   "id": "e3606a3e",
   "metadata": {},
   "outputs": [],
   "source": [
    "# Get the image from the first page that has one, this is page 9 and the image is in the middle\n",
    "# Since this method splits the page in half, we'll crop both sides then merge it back together\n",
    "page9 = reader.pages[8]\n",
    "page9.mediabox.bottom_middle = (\n",
    "    page3.mediabox.bottom / 2,\n",
    "    page3.mediabox.top / 2,\n",
    ")\n",
    "writer.add_page(page3)"
   ]
  },
  {
   "cell_type": "code",
   "execution_count": null,
   "id": "054bd5ad",
   "metadata": {},
   "outputs": [],
   "source": [
    "# The next image is on page 10 (9 in python) and in the upper right portion of the page, lets get it"
   ]
  }
 ],
 "metadata": {
  "kernelspec": {
   "display_name": "Python 3 (ipykernel)",
   "language": "python",
   "name": "python3"
  },
  "language_info": {
   "codemirror_mode": {
    "name": "ipython",
    "version": 3
   },
   "file_extension": ".py",
   "mimetype": "text/x-python",
   "name": "python",
   "nbconvert_exporter": "python",
   "pygments_lexer": "ipython3",
   "version": "3.9.12"
  }
 },
 "nbformat": 4,
 "nbformat_minor": 5
}
