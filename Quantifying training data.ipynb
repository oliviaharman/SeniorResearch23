{
 "cells": [
  {
   "cell_type": "markdown",
   "id": "d923d16f",
   "metadata": {},
   "source": [
    "### Want to use this script to see the amount of images in each path\n",
    "###### Helpful for poster :)"
   ]
  },
  {
   "cell_type": "markdown",
   "id": "21d49195",
   "metadata": {},
   "source": [
    "### Lets check how many images are in snake vs no snake before sorting"
   ]
  },
  {
   "cell_type": "code",
   "execution_count": 3,
   "id": "2aae87a9",
   "metadata": {},
   "outputs": [
    {
     "name": "stdout",
     "output_type": "stream",
     "text": [
      "file count: 967\n"
     ]
    }
   ],
   "source": [
    "import os\n",
    "\n",
    "count = 0\n",
    "dir_path = r'C:\\Build\\SnakeImages\\NoSnake'\n",
    "for path in os.scandir(dir_path):\n",
    "    if path.is_file():\n",
    "        count += 1\n",
    "print('file count:', count)"
   ]
  },
  {
   "cell_type": "code",
   "execution_count": 2,
   "id": "79f91585",
   "metadata": {},
   "outputs": [
    {
     "name": "stdout",
     "output_type": "stream",
     "text": [
      "file count: 967\n"
     ]
    }
   ],
   "source": [
    "count = 0\n",
    "dir_path = r'C:\\Build\\SnakeImages\\Snake'\n",
    "for path in os.scandir(dir_path):\n",
    "    if path.is_file():\n",
    "        count += 1\n",
    "print('file count:', count)"
   ]
  },
  {
   "cell_type": "markdown",
   "id": "edb9be41",
   "metadata": {},
   "source": [
    "### Now after sorting, how is the spread? Want it to be as even as possible!\n",
    "##### ~~~~~~~~~~~~~~~~~~~~~~~~~~~~~~~~~~~~~~~~~~~~~~~~~~~~~~~~~~~~~~~~~~~~~~~~~~~~~"
   ]
  },
  {
   "cell_type": "code",
   "execution_count": 4,
   "id": "064d1f06",
   "metadata": {},
   "outputs": [
    {
     "name": "stdout",
     "output_type": "stream",
     "text": [
      "file count: 140\n"
     ]
    }
   ],
   "source": [
    "# first up is SnakeImages -> test -> no snake\n",
    "import os\n",
    "\n",
    "count = 0\n",
    "dir_path = r'C:\\Build\\SnakeImages\\test\\NoSnake'\n",
    "for path in os.scandir(dir_path):\n",
    "    if path.is_file():\n",
    "        count += 1\n",
    "print('file count:', count)"
   ]
  },
  {
   "cell_type": "code",
   "execution_count": 5,
   "id": "979f0cfe",
   "metadata": {},
   "outputs": [
    {
     "name": "stdout",
     "output_type": "stream",
     "text": [
      "file count: 140\n"
     ]
    }
   ],
   "source": [
    "# next up is SnakeImages -> test -> snake\n",
    "count = 0\n",
    "dir_path = r'C:\\Build\\SnakeImages\\test\\Snake'\n",
    "for path in os.scandir(dir_path):\n",
    "    if path.is_file():\n",
    "        count += 1\n",
    "print('file count:', count)"
   ]
  },
  {
   "cell_type": "code",
   "execution_count": 6,
   "id": "779a015d",
   "metadata": {},
   "outputs": [
    {
     "name": "stdout",
     "output_type": "stream",
     "text": [
      "file count: 671\n"
     ]
    }
   ],
   "source": [
    "# next up is SnakeImages -> train -> no snake\n",
    "count = 0\n",
    "dir_path = r'C:\\Build\\SnakeImages\\train\\NoSnake'\n",
    "for path in os.scandir(dir_path):\n",
    "    if path.is_file():\n",
    "        count += 1\n",
    "print('file count:', count)"
   ]
  },
  {
   "cell_type": "code",
   "execution_count": 7,
   "id": "7a9adbba",
   "metadata": {},
   "outputs": [
    {
     "name": "stdout",
     "output_type": "stream",
     "text": [
      "file count: 671\n"
     ]
    }
   ],
   "source": [
    "# next up is SnakeImages -> train -> snake\n",
    "count = 0\n",
    "dir_path = r'C:\\Build\\SnakeImages\\train\\Snake'\n",
    "for path in os.scandir(dir_path):\n",
    "    if path.is_file():\n",
    "        count += 1\n",
    "print('file count:', count)"
   ]
  },
  {
   "cell_type": "code",
   "execution_count": 8,
   "id": "60c84bfc",
   "metadata": {},
   "outputs": [
    {
     "name": "stdout",
     "output_type": "stream",
     "text": [
      "file count: 140\n"
     ]
    }
   ],
   "source": [
    "# next up is SnakeImages -> validate -> no snake\n",
    "count = 0\n",
    "dir_path = r'C:\\Build\\SnakeImages\\validate\\NoSnake'\n",
    "for path in os.scandir(dir_path):\n",
    "    if path.is_file():\n",
    "        count += 1\n",
    "print('file count:', count)"
   ]
  },
  {
   "cell_type": "code",
   "execution_count": 9,
   "id": "5df611bd",
   "metadata": {},
   "outputs": [
    {
     "name": "stdout",
     "output_type": "stream",
     "text": [
      "file count: 140\n"
     ]
    }
   ],
   "source": [
    "# next up is SnakeImages -> validate -> snake\n",
    "count = 0\n",
    "dir_path = r'C:\\Build\\SnakeImages\\validate\\Snake'\n",
    "for path in os.scandir(dir_path):\n",
    "    if path.is_file():\n",
    "        count += 1\n",
    "print('file count:', count)"
   ]
  },
  {
   "cell_type": "markdown",
   "id": "1956efe8",
   "metadata": {},
   "source": [
    "#### Now there is an even spread among the images with snakes and no snakes!\n",
    "###### 671 images in train data for snake and no snake. Is this enough to accomplish good accuracy? Let's find out!"
   ]
  },
  {
   "cell_type": "code",
   "execution_count": null,
   "id": "c4055a35",
   "metadata": {},
   "outputs": [],
   "source": []
  },
  {
   "cell_type": "code",
   "execution_count": null,
   "id": "916c4c05",
   "metadata": {},
   "outputs": [],
   "source": []
  },
  {
   "cell_type": "code",
   "execution_count": null,
   "id": "bd21b8d3",
   "metadata": {},
   "outputs": [],
   "source": []
  },
  {
   "cell_type": "code",
   "execution_count": null,
   "id": "26db8673",
   "metadata": {},
   "outputs": [],
   "source": []
  },
  {
   "cell_type": "code",
   "execution_count": null,
   "id": "a870e87a",
   "metadata": {},
   "outputs": [],
   "source": []
  }
 ],
 "metadata": {
  "kernelspec": {
   "display_name": "Python 3 (ipykernel)",
   "language": "python",
   "name": "python3"
  },
  "language_info": {
   "codemirror_mode": {
    "name": "ipython",
    "version": 3
   },
   "file_extension": ".py",
   "mimetype": "text/x-python",
   "name": "python",
   "nbconvert_exporter": "python",
   "pygments_lexer": "ipython3",
   "version": "3.11.5"
  }
 },
 "nbformat": 4,
 "nbformat_minor": 5
}
