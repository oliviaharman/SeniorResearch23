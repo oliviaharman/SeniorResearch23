{
 "cells": [
  {
   "cell_type": "markdown",
   "id": "1bc4a3fa",
   "metadata": {},
   "source": [
    "## Using a pre-trained VGG16 model will allow for recongition and extraction of snake along with description and maps."
   ]
  },
  {
   "cell_type": "code",
   "execution_count": 1,
   "id": "ad811ea5",
   "metadata": {},
   "outputs": [],
   "source": [
    "from keras.layers import Dense , Flatten #-> for the last layers\n",
    "from keras.models import Model"
   ]
  },
  {
   "cell_type": "code",
   "execution_count": 2,
   "id": "382f410f",
   "metadata": {},
   "outputs": [],
   "source": [
    "#VGG16 model\n",
    "from keras.applications.vgg16 import VGG16\n",
    "from keras.applications.vgg16 import preprocess_input"
   ]
  },
  {
   "cell_type": "code",
   "execution_count": 3,
   "id": "4ed243f8",
   "metadata": {},
   "outputs": [],
   "source": [
    "from tensorflow.keras.callbacks import EarlyStopping , ModelCheckpoint"
   ]
  },
  {
   "cell_type": "code",
   "execution_count": 4,
   "id": "1f96e032",
   "metadata": {},
   "outputs": [],
   "source": [
    "# image augmentaion\n",
    "from keras.preprocessing.image import ImageDataGenerator\n",
    "from keras.models import Sequential"
   ]
  },
  {
   "cell_type": "code",
   "execution_count": 5,
   "id": "6771c8ed",
   "metadata": {},
   "outputs": [],
   "source": [
    "import numpy as np \n",
    "from glob import glob \n",
    "import matplotlib.pyplot as plt \n",
    "import time"
   ]
  },
  {
   "cell_type": "code",
   "execution_count": 6,
   "id": "b61bf38f",
   "metadata": {},
   "outputs": [],
   "source": [
    "# Parameters\n",
    "IMG=200\n",
    "IMG_SIZE = [IMG, IMG]\n",
    "\n",
    "numOfClasses = 10\n",
    "batchSize = 32\n",
    "EPOCHS = 30\n",
    "PATIENCE=5"
   ]
  },
  {
   "cell_type": "code",
   "execution_count": null,
   "id": "09967c0b",
   "metadata": {},
   "outputs": [],
   "source": [
    "# Data\n",
    "# =====\n",
    "\n",
    "trainMyImagesFolder = \"C:/Python-cannot-upload-to-GitHub/10-Monkey-Species/training/training\"\n",
    "testMyImagesFolder = \"C:/Python-cannot-upload-to-GitHub/10-Monkey-Species/validation/validation\"\n",
    "\n",
    "train_datagen = ImageDataGenerator(rescale = 1. / 255, \n",
    "                                    rotation_range = 20 ,\n",
    "                                    width_shift_range = 0.2 ,\n",
    "                                    height_shift_range = 0.2 ,\n",
    "                                    shear_range = 0.2 ,\n",
    "                                    zoom_range = 0.2 ,\n",
    "                                    horizontal_flip = True)\n",
    "\n",
    "training_set = train_datagen.flow_from_directory(trainMyImagesFolder,\n",
    "                                                shuffle=True,\n",
    "                                                target_size=IMG_SIZE,\n",
    "                                                batch_size=batchSize,\n",
    "                                                class_mode = 'categorical')\n",
    "\n",
    "test_datagen = ImageDataGenerator(rescale = 1. / 255)\n",
    "\n",
    "\n",
    "test_set = test_datagen.flow_from_directory(testMyImagesFolder,\n",
    "                                                shuffle=False, #### important\n",
    "                                                target_size=IMG_SIZE,\n",
    "                                                batch_size=batchSize,\n",
    "                                                class_mode = 'categorical')\n",
    "\n",
    "\n",
    "stepsPerEpochs = np.ceil (training_set.samples / batchSize) # round the result up\n",
    "validationSteps =np.ceil (test_set.samples / batchSize) "
   ]
  }
 ],
 "metadata": {
  "kernelspec": {
   "display_name": "Python 3 (ipykernel)",
   "language": "python",
   "name": "python3"
  },
  "language_info": {
   "codemirror_mode": {
    "name": "ipython",
    "version": 3
   },
   "file_extension": ".py",
   "mimetype": "text/x-python",
   "name": "python",
   "nbconvert_exporter": "python",
   "pygments_lexer": "ipython3",
   "version": "3.11.5"
  }
 },
 "nbformat": 4,
 "nbformat_minor": 5
}
